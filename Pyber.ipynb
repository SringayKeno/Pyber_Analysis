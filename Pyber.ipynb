{
 "cells": [
  {
   "cell_type": "code",
   "execution_count": 176,
   "id": "e40b1831",
   "metadata": {},
   "outputs": [],
   "source": [
    "#adding inline magic command\n",
    "%matplotlib inline\n",
    "#adding dependencies \n",
    "import matplotlib.pyplot as plt\n",
    "import pandas as pd\n"
   ]
  },
  {
   "cell_type": "code",
   "execution_count": null,
   "id": "b6e0ad84",
   "metadata": {},
   "outputs": [],
   "source": []
  },
  {
   "cell_type": "code",
   "execution_count": 177,
   "id": "6c153305",
   "metadata": {},
   "outputs": [],
   "source": [
    "#files to load\n",
    "city_data_to_load = \"Resources/city_data.csv\"\n",
    "ride_data_to_load = \"Resources/ride_data.csv\""
   ]
  },
  {
   "cell_type": "code",
   "execution_count": 178,
   "id": "11e8f04c",
   "metadata": {},
   "outputs": [
    {
     "data": {
      "text/html": [
       "<div>\n",
       "<style scoped>\n",
       "    .dataframe tbody tr th:only-of-type {\n",
       "        vertical-align: middle;\n",
       "    }\n",
       "\n",
       "    .dataframe tbody tr th {\n",
       "        vertical-align: top;\n",
       "    }\n",
       "\n",
       "    .dataframe thead th {\n",
       "        text-align: right;\n",
       "    }\n",
       "</style>\n",
       "<table border=\"1\" class=\"dataframe\">\n",
       "  <thead>\n",
       "    <tr style=\"text-align: right;\">\n",
       "      <th></th>\n",
       "      <th>city</th>\n",
       "      <th>driver_count</th>\n",
       "      <th>type</th>\n",
       "    </tr>\n",
       "  </thead>\n",
       "  <tbody>\n",
       "    <tr>\n",
       "      <th>0</th>\n",
       "      <td>Richardfort</td>\n",
       "      <td>38</td>\n",
       "      <td>Urban</td>\n",
       "    </tr>\n",
       "    <tr>\n",
       "      <th>1</th>\n",
       "      <td>Williamsstad</td>\n",
       "      <td>59</td>\n",
       "      <td>Urban</td>\n",
       "    </tr>\n",
       "    <tr>\n",
       "      <th>2</th>\n",
       "      <td>Port Angela</td>\n",
       "      <td>67</td>\n",
       "      <td>Urban</td>\n",
       "    </tr>\n",
       "    <tr>\n",
       "      <th>3</th>\n",
       "      <td>Rodneyfort</td>\n",
       "      <td>34</td>\n",
       "      <td>Urban</td>\n",
       "    </tr>\n",
       "    <tr>\n",
       "      <th>4</th>\n",
       "      <td>West Robert</td>\n",
       "      <td>39</td>\n",
       "      <td>Urban</td>\n",
       "    </tr>\n",
       "    <tr>\n",
       "      <th>5</th>\n",
       "      <td>West Anthony</td>\n",
       "      <td>70</td>\n",
       "      <td>Urban</td>\n",
       "    </tr>\n",
       "    <tr>\n",
       "      <th>6</th>\n",
       "      <td>West Angela</td>\n",
       "      <td>48</td>\n",
       "      <td>Urban</td>\n",
       "    </tr>\n",
       "    <tr>\n",
       "      <th>7</th>\n",
       "      <td>Martinezhaven</td>\n",
       "      <td>25</td>\n",
       "      <td>Urban</td>\n",
       "    </tr>\n",
       "    <tr>\n",
       "      <th>8</th>\n",
       "      <td>Karenberg</td>\n",
       "      <td>22</td>\n",
       "      <td>Urban</td>\n",
       "    </tr>\n",
       "    <tr>\n",
       "      <th>9</th>\n",
       "      <td>Barajasview</td>\n",
       "      <td>26</td>\n",
       "      <td>Urban</td>\n",
       "    </tr>\n",
       "  </tbody>\n",
       "</table>\n",
       "</div>"
      ],
      "text/plain": [
       "            city  driver_count   type\n",
       "0    Richardfort            38  Urban\n",
       "1   Williamsstad            59  Urban\n",
       "2    Port Angela            67  Urban\n",
       "3     Rodneyfort            34  Urban\n",
       "4    West Robert            39  Urban\n",
       "5   West Anthony            70  Urban\n",
       "6    West Angela            48  Urban\n",
       "7  Martinezhaven            25  Urban\n",
       "8      Karenberg            22  Urban\n",
       "9    Barajasview            26  Urban"
      ]
     },
     "execution_count": 178,
     "metadata": {},
     "output_type": "execute_result"
    }
   ],
   "source": [
    "#read city file and store in pandas dataframe\n",
    "#city_data_df = pd.read_csv(city_data_to_load)\n",
    "#city_data_df.head(10)\n",
    "city_data_df = pd.read_csv(city_data_to_load)\n",
    "city_data_df.head(10)"
   ]
  },
  {
   "cell_type": "code",
   "execution_count": 179,
   "id": "591d522d",
   "metadata": {},
   "outputs": [
    {
     "data": {
      "text/html": [
       "<div>\n",
       "<style scoped>\n",
       "    .dataframe tbody tr th:only-of-type {\n",
       "        vertical-align: middle;\n",
       "    }\n",
       "\n",
       "    .dataframe tbody tr th {\n",
       "        vertical-align: top;\n",
       "    }\n",
       "\n",
       "    .dataframe thead th {\n",
       "        text-align: right;\n",
       "    }\n",
       "</style>\n",
       "<table border=\"1\" class=\"dataframe\">\n",
       "  <thead>\n",
       "    <tr style=\"text-align: right;\">\n",
       "      <th></th>\n",
       "      <th>city</th>\n",
       "      <th>date</th>\n",
       "      <th>fare</th>\n",
       "      <th>ride_id</th>\n",
       "    </tr>\n",
       "  </thead>\n",
       "  <tbody>\n",
       "    <tr>\n",
       "      <th>0</th>\n",
       "      <td>Lake Jonathanshire</td>\n",
       "      <td>2019-01-14 10:14:22</td>\n",
       "      <td>13.83</td>\n",
       "      <td>5739410935873</td>\n",
       "    </tr>\n",
       "    <tr>\n",
       "      <th>1</th>\n",
       "      <td>South Michelleport</td>\n",
       "      <td>2019-03-04 18:24:09</td>\n",
       "      <td>30.24</td>\n",
       "      <td>2343912425577</td>\n",
       "    </tr>\n",
       "    <tr>\n",
       "      <th>2</th>\n",
       "      <td>Port Samanthamouth</td>\n",
       "      <td>2019-02-24 04:29:00</td>\n",
       "      <td>33.44</td>\n",
       "      <td>2005065760003</td>\n",
       "    </tr>\n",
       "    <tr>\n",
       "      <th>3</th>\n",
       "      <td>Rodneyfort</td>\n",
       "      <td>2019-02-10 23:22:03</td>\n",
       "      <td>23.44</td>\n",
       "      <td>5149245426178</td>\n",
       "    </tr>\n",
       "    <tr>\n",
       "      <th>4</th>\n",
       "      <td>South Jack</td>\n",
       "      <td>2019-03-06 04:28:35</td>\n",
       "      <td>34.58</td>\n",
       "      <td>3908451377344</td>\n",
       "    </tr>\n",
       "    <tr>\n",
       "      <th>5</th>\n",
       "      <td>South Latoya</td>\n",
       "      <td>2019-03-11 12:26:48</td>\n",
       "      <td>9.52</td>\n",
       "      <td>1994999424437</td>\n",
       "    </tr>\n",
       "    <tr>\n",
       "      <th>6</th>\n",
       "      <td>New Paulville</td>\n",
       "      <td>2019-02-27 11:17:56</td>\n",
       "      <td>43.25</td>\n",
       "      <td>793208410091</td>\n",
       "    </tr>\n",
       "    <tr>\n",
       "      <th>7</th>\n",
       "      <td>Simpsonburgh</td>\n",
       "      <td>2019-04-26 00:43:24</td>\n",
       "      <td>35.98</td>\n",
       "      <td>111953927754</td>\n",
       "    </tr>\n",
       "    <tr>\n",
       "      <th>8</th>\n",
       "      <td>South Karenland</td>\n",
       "      <td>2019-01-08 03:28:48</td>\n",
       "      <td>35.09</td>\n",
       "      <td>7995623208694</td>\n",
       "    </tr>\n",
       "    <tr>\n",
       "      <th>9</th>\n",
       "      <td>North Jasmine</td>\n",
       "      <td>2019-03-09 06:26:29</td>\n",
       "      <td>42.81</td>\n",
       "      <td>5327642267789</td>\n",
       "    </tr>\n",
       "  </tbody>\n",
       "</table>\n",
       "</div>"
      ],
      "text/plain": [
       "                 city                 date   fare        ride_id\n",
       "0  Lake Jonathanshire  2019-01-14 10:14:22  13.83  5739410935873\n",
       "1  South Michelleport  2019-03-04 18:24:09  30.24  2343912425577\n",
       "2  Port Samanthamouth  2019-02-24 04:29:00  33.44  2005065760003\n",
       "3          Rodneyfort  2019-02-10 23:22:03  23.44  5149245426178\n",
       "4          South Jack  2019-03-06 04:28:35  34.58  3908451377344\n",
       "5        South Latoya  2019-03-11 12:26:48   9.52  1994999424437\n",
       "6       New Paulville  2019-02-27 11:17:56  43.25   793208410091\n",
       "7        Simpsonburgh  2019-04-26 00:43:24  35.98   111953927754\n",
       "8     South Karenland  2019-01-08 03:28:48  35.09  7995623208694\n",
       "9       North Jasmine  2019-03-09 06:26:29  42.81  5327642267789"
      ]
     },
     "execution_count": 179,
     "metadata": {},
     "output_type": "execute_result"
    }
   ],
   "source": [
    "#read ride data infile and store as panda df\n",
    "ride_data_df = pd.read_csv(ride_data_to_load)\n",
    "ride_data_df.head(10)\n",
    "#ride_data_df = pd.read_csv(ride_data_to_load)\n",
    "#ride_data_df.head(10)\n"
   ]
  },
  {
   "cell_type": "code",
   "execution_count": 180,
   "id": "b991da8f",
   "metadata": {},
   "outputs": [
    {
     "data": {
      "text/plain": [
       "city            120\n",
       "driver_count    120\n",
       "type            120\n",
       "dtype: int64"
      ]
     },
     "execution_count": 180,
     "metadata": {},
     "output_type": "execute_result"
    }
   ],
   "source": [
    "# Get the columns and the rows that are not null.\n",
    "city_data_df.count()"
   ]
  },
  {
   "cell_type": "code",
   "execution_count": 181,
   "id": "f3bcc64d",
   "metadata": {},
   "outputs": [
    {
     "data": {
      "text/plain": [
       "city            0\n",
       "driver_count    0\n",
       "type            0\n",
       "dtype: int64"
      ]
     },
     "execution_count": 181,
     "metadata": {},
     "output_type": "execute_result"
    }
   ],
   "source": [
    "#get the columns and rows that are zero null values\n",
    "city_data_df.isnull().sum()"
   ]
  },
  {
   "cell_type": "code",
   "execution_count": 182,
   "id": "01c76b6d",
   "metadata": {},
   "outputs": [
    {
     "data": {
      "text/plain": [
       "city            object\n",
       "driver_count     int64\n",
       "type            object\n",
       "dtype: object"
      ]
     },
     "execution_count": 182,
     "metadata": {},
     "output_type": "execute_result"
    }
   ],
   "source": [
    "# Get the data types of each column\n",
    "#city_data_df.dtypes\n",
    "city_data_df.dtypes"
   ]
  },
  {
   "cell_type": "code",
   "execution_count": 183,
   "id": "32a271e2",
   "metadata": {},
   "outputs": [
    {
     "data": {
      "text/plain": [
       "array(['Urban', 'Suburban', 'Rural'], dtype=object)"
      ]
     },
     "execution_count": 183,
     "metadata": {},
     "output_type": "execute_result"
    }
   ],
   "source": [
    "#get unique values for each city\n",
    "city_data_df[\"type\"].unique()"
   ]
  },
  {
   "cell_type": "code",
   "execution_count": 184,
   "id": "54c6cbe3",
   "metadata": {},
   "outputs": [
    {
     "data": {
      "text/plain": [
       "66"
      ]
     },
     "execution_count": 184,
     "metadata": {},
     "output_type": "execute_result"
    }
   ],
   "source": [
    "#getting number of data points for urban cities\n",
    "sum(city_data_df[\"type\"]==\"Urban\")"
   ]
  },
  {
   "cell_type": "code",
   "execution_count": 185,
   "id": "a4c55b53",
   "metadata": {},
   "outputs": [
    {
     "data": {
      "text/plain": [
       "36"
      ]
     },
     "execution_count": 185,
     "metadata": {},
     "output_type": "execute_result"
    }
   ],
   "source": [
    "#getting number of data points for suburban cities\n",
    "sum(city_data_df[\"type\"]==\"Suburban\")"
   ]
  },
  {
   "cell_type": "code",
   "execution_count": 186,
   "id": "197b75d2",
   "metadata": {},
   "outputs": [
    {
     "data": {
      "text/plain": [
       "18"
      ]
     },
     "execution_count": 186,
     "metadata": {},
     "output_type": "execute_result"
    }
   ],
   "source": [
    "#getting number of data points for Rural cities\n",
    "sum(city_data_df[\"type\"]==\"Rural\")"
   ]
  },
  {
   "cell_type": "code",
   "execution_count": 187,
   "id": "9b5cd69d",
   "metadata": {},
   "outputs": [
    {
     "data": {
      "text/plain": [
       "city       2375\n",
       "date       2375\n",
       "fare       2375\n",
       "ride_id    2375\n",
       "dtype: int64"
      ]
     },
     "execution_count": 187,
     "metadata": {},
     "output_type": "execute_result"
    }
   ],
   "source": [
    "#get columns and ros not null\n",
    "#ride_data_df.count()\n",
    "# Get the columns and the rows that are not null.\n",
    "ride_data_df.count()"
   ]
  },
  {
   "cell_type": "code",
   "execution_count": 188,
   "id": "6863b4b2",
   "metadata": {},
   "outputs": [
    {
     "data": {
      "text/plain": [
       "city       0\n",
       "date       0\n",
       "fare       0\n",
       "ride_id    0\n",
       "dtype: int64"
      ]
     },
     "execution_count": 188,
     "metadata": {},
     "output_type": "execute_result"
    }
   ],
   "source": [
    "# checking null vulues\n",
    "#ride_data_df.isnull().sum()\n",
    "ride_data_df.isnull().sum()"
   ]
  },
  {
   "cell_type": "code",
   "execution_count": 189,
   "id": "cd1b736c",
   "metadata": {},
   "outputs": [
    {
     "data": {
      "text/plain": [
       "city        object\n",
       "date        object\n",
       "fare       float64\n",
       "ride_id      int64\n",
       "dtype: object"
      ]
     },
     "execution_count": 189,
     "metadata": {},
     "output_type": "execute_result"
    }
   ],
   "source": [
    "#checking dtypes\n",
    "ride_data_df.dtypes"
   ]
  },
  {
   "cell_type": "code",
   "execution_count": 190,
   "id": "c0fbea84",
   "metadata": {},
   "outputs": [
    {
     "data": {
      "text/html": [
       "<div>\n",
       "<style scoped>\n",
       "    .dataframe tbody tr th:only-of-type {\n",
       "        vertical-align: middle;\n",
       "    }\n",
       "\n",
       "    .dataframe tbody tr th {\n",
       "        vertical-align: top;\n",
       "    }\n",
       "\n",
       "    .dataframe thead th {\n",
       "        text-align: right;\n",
       "    }\n",
       "</style>\n",
       "<table border=\"1\" class=\"dataframe\">\n",
       "  <thead>\n",
       "    <tr style=\"text-align: right;\">\n",
       "      <th></th>\n",
       "      <th>city</th>\n",
       "      <th>date</th>\n",
       "      <th>fare</th>\n",
       "      <th>ride_id</th>\n",
       "      <th>driver_count</th>\n",
       "      <th>type</th>\n",
       "    </tr>\n",
       "  </thead>\n",
       "  <tbody>\n",
       "    <tr>\n",
       "      <th>0</th>\n",
       "      <td>Lake Jonathanshire</td>\n",
       "      <td>2019-01-14 10:14:22</td>\n",
       "      <td>13.83</td>\n",
       "      <td>5739410935873</td>\n",
       "      <td>5</td>\n",
       "      <td>Urban</td>\n",
       "    </tr>\n",
       "    <tr>\n",
       "      <th>1</th>\n",
       "      <td>South Michelleport</td>\n",
       "      <td>2019-03-04 18:24:09</td>\n",
       "      <td>30.24</td>\n",
       "      <td>2343912425577</td>\n",
       "      <td>72</td>\n",
       "      <td>Urban</td>\n",
       "    </tr>\n",
       "    <tr>\n",
       "      <th>2</th>\n",
       "      <td>Port Samanthamouth</td>\n",
       "      <td>2019-02-24 04:29:00</td>\n",
       "      <td>33.44</td>\n",
       "      <td>2005065760003</td>\n",
       "      <td>57</td>\n",
       "      <td>Urban</td>\n",
       "    </tr>\n",
       "    <tr>\n",
       "      <th>3</th>\n",
       "      <td>Rodneyfort</td>\n",
       "      <td>2019-02-10 23:22:03</td>\n",
       "      <td>23.44</td>\n",
       "      <td>5149245426178</td>\n",
       "      <td>34</td>\n",
       "      <td>Urban</td>\n",
       "    </tr>\n",
       "    <tr>\n",
       "      <th>4</th>\n",
       "      <td>South Jack</td>\n",
       "      <td>2019-03-06 04:28:35</td>\n",
       "      <td>34.58</td>\n",
       "      <td>3908451377344</td>\n",
       "      <td>46</td>\n",
       "      <td>Urban</td>\n",
       "    </tr>\n",
       "  </tbody>\n",
       "</table>\n",
       "</div>"
      ],
      "text/plain": [
       "                 city                 date   fare        ride_id  \\\n",
       "0  Lake Jonathanshire  2019-01-14 10:14:22  13.83  5739410935873   \n",
       "1  South Michelleport  2019-03-04 18:24:09  30.24  2343912425577   \n",
       "2  Port Samanthamouth  2019-02-24 04:29:00  33.44  2005065760003   \n",
       "3          Rodneyfort  2019-02-10 23:22:03  23.44  5149245426178   \n",
       "4          South Jack  2019-03-06 04:28:35  34.58  3908451377344   \n",
       "\n",
       "   driver_count   type  \n",
       "0             5  Urban  \n",
       "1            72  Urban  \n",
       "2            57  Urban  \n",
       "3            34  Urban  \n",
       "4            46  Urban  "
      ]
     },
     "execution_count": 190,
     "metadata": {},
     "output_type": "execute_result"
    }
   ],
   "source": [
    "#merging dfs\n",
    "pyber_data_df = pd.merge(ride_data_df, city_data_df, how =\"left\", on=[\"city\", \"city\"])\n",
    "pyber_data_df.head()"
   ]
  },
  {
   "cell_type": "code",
   "execution_count": 191,
   "id": "ff34b56a",
   "metadata": {},
   "outputs": [
    {
     "data": {
      "text/html": [
       "<div>\n",
       "<style scoped>\n",
       "    .dataframe tbody tr th:only-of-type {\n",
       "        vertical-align: middle;\n",
       "    }\n",
       "\n",
       "    .dataframe tbody tr th {\n",
       "        vertical-align: top;\n",
       "    }\n",
       "\n",
       "    .dataframe thead th {\n",
       "        text-align: right;\n",
       "    }\n",
       "</style>\n",
       "<table border=\"1\" class=\"dataframe\">\n",
       "  <thead>\n",
       "    <tr style=\"text-align: right;\">\n",
       "      <th></th>\n",
       "      <th>city</th>\n",
       "      <th>date</th>\n",
       "      <th>fare</th>\n",
       "      <th>ride_id</th>\n",
       "      <th>driver_count</th>\n",
       "      <th>type</th>\n",
       "    </tr>\n",
       "  </thead>\n",
       "  <tbody>\n",
       "    <tr>\n",
       "      <th>0</th>\n",
       "      <td>Lake Jonathanshire</td>\n",
       "      <td>2019-01-14 10:14:22</td>\n",
       "      <td>13.83</td>\n",
       "      <td>5739410935873</td>\n",
       "      <td>5</td>\n",
       "      <td>Urban</td>\n",
       "    </tr>\n",
       "    <tr>\n",
       "      <th>1</th>\n",
       "      <td>South Michelleport</td>\n",
       "      <td>2019-03-04 18:24:09</td>\n",
       "      <td>30.24</td>\n",
       "      <td>2343912425577</td>\n",
       "      <td>72</td>\n",
       "      <td>Urban</td>\n",
       "    </tr>\n",
       "    <tr>\n",
       "      <th>2</th>\n",
       "      <td>Port Samanthamouth</td>\n",
       "      <td>2019-02-24 04:29:00</td>\n",
       "      <td>33.44</td>\n",
       "      <td>2005065760003</td>\n",
       "      <td>57</td>\n",
       "      <td>Urban</td>\n",
       "    </tr>\n",
       "    <tr>\n",
       "      <th>3</th>\n",
       "      <td>Rodneyfort</td>\n",
       "      <td>2019-02-10 23:22:03</td>\n",
       "      <td>23.44</td>\n",
       "      <td>5149245426178</td>\n",
       "      <td>34</td>\n",
       "      <td>Urban</td>\n",
       "    </tr>\n",
       "    <tr>\n",
       "      <th>4</th>\n",
       "      <td>South Jack</td>\n",
       "      <td>2019-03-06 04:28:35</td>\n",
       "      <td>34.58</td>\n",
       "      <td>3908451377344</td>\n",
       "      <td>46</td>\n",
       "      <td>Urban</td>\n",
       "    </tr>\n",
       "  </tbody>\n",
       "</table>\n",
       "</div>"
      ],
      "text/plain": [
       "                 city                 date   fare        ride_id  \\\n",
       "0  Lake Jonathanshire  2019-01-14 10:14:22  13.83  5739410935873   \n",
       "1  South Michelleport  2019-03-04 18:24:09  30.24  2343912425577   \n",
       "2  Port Samanthamouth  2019-02-24 04:29:00  33.44  2005065760003   \n",
       "3          Rodneyfort  2019-02-10 23:22:03  23.44  5149245426178   \n",
       "4          South Jack  2019-03-06 04:28:35  34.58  3908451377344   \n",
       "\n",
       "   driver_count   type  \n",
       "0             5  Urban  \n",
       "1            72  Urban  \n",
       "2            57  Urban  \n",
       "3            34  Urban  \n",
       "4            46  Urban  "
      ]
     },
     "execution_count": 191,
     "metadata": {},
     "output_type": "execute_result"
    }
   ],
   "source": [
    "#urban_cities_df\n",
    "#rban_cities_df = pyber_daa_df[pyber_cites_df[\"type\"] == \"Urban\"]\n",
    "urban_cities_df = pyber_data_df[pyber_data_df[\"type\"] == \"Urban\"]\n",
    "urban_cities_df.head()"
   ]
  },
  {
   "cell_type": "code",
   "execution_count": 192,
   "id": "8f56740c",
   "metadata": {},
   "outputs": [
    {
     "data": {
      "text/html": [
       "<div>\n",
       "<style scoped>\n",
       "    .dataframe tbody tr th:only-of-type {\n",
       "        vertical-align: middle;\n",
       "    }\n",
       "\n",
       "    .dataframe tbody tr th {\n",
       "        vertical-align: top;\n",
       "    }\n",
       "\n",
       "    .dataframe thead th {\n",
       "        text-align: right;\n",
       "    }\n",
       "</style>\n",
       "<table border=\"1\" class=\"dataframe\">\n",
       "  <thead>\n",
       "    <tr style=\"text-align: right;\">\n",
       "      <th></th>\n",
       "      <th>city</th>\n",
       "      <th>date</th>\n",
       "      <th>fare</th>\n",
       "      <th>ride_id</th>\n",
       "      <th>driver_count</th>\n",
       "      <th>type</th>\n",
       "    </tr>\n",
       "  </thead>\n",
       "  <tbody>\n",
       "    <tr>\n",
       "      <th>1625</th>\n",
       "      <td>Barronchester</td>\n",
       "      <td>2019-01-27 03:08:01</td>\n",
       "      <td>27.79</td>\n",
       "      <td>6653622887913</td>\n",
       "      <td>11</td>\n",
       "      <td>Suburban</td>\n",
       "    </tr>\n",
       "    <tr>\n",
       "      <th>1626</th>\n",
       "      <td>East Kentstad</td>\n",
       "      <td>2019-04-07 19:44:19</td>\n",
       "      <td>18.75</td>\n",
       "      <td>6575961095852</td>\n",
       "      <td>20</td>\n",
       "      <td>Suburban</td>\n",
       "    </tr>\n",
       "    <tr>\n",
       "      <th>1627</th>\n",
       "      <td>Lake Omar</td>\n",
       "      <td>2019-01-17 21:33:35</td>\n",
       "      <td>21.71</td>\n",
       "      <td>966911700371</td>\n",
       "      <td>22</td>\n",
       "      <td>Suburban</td>\n",
       "    </tr>\n",
       "    <tr>\n",
       "      <th>1628</th>\n",
       "      <td>Myersshire</td>\n",
       "      <td>2019-02-27 17:38:39</td>\n",
       "      <td>17.10</td>\n",
       "      <td>5706770909868</td>\n",
       "      <td>19</td>\n",
       "      <td>Suburban</td>\n",
       "    </tr>\n",
       "    <tr>\n",
       "      <th>1629</th>\n",
       "      <td>West Hannah</td>\n",
       "      <td>2019-04-19 01:06:59</td>\n",
       "      <td>37.78</td>\n",
       "      <td>2273047151891</td>\n",
       "      <td>12</td>\n",
       "      <td>Suburban</td>\n",
       "    </tr>\n",
       "  </tbody>\n",
       "</table>\n",
       "</div>"
      ],
      "text/plain": [
       "               city                 date   fare        ride_id  driver_count  \\\n",
       "1625  Barronchester  2019-01-27 03:08:01  27.79  6653622887913            11   \n",
       "1626  East Kentstad  2019-04-07 19:44:19  18.75  6575961095852            20   \n",
       "1627      Lake Omar  2019-01-17 21:33:35  21.71   966911700371            22   \n",
       "1628     Myersshire  2019-02-27 17:38:39  17.10  5706770909868            19   \n",
       "1629    West Hannah  2019-04-19 01:06:59  37.78  2273047151891            12   \n",
       "\n",
       "          type  \n",
       "1625  Suburban  \n",
       "1626  Suburban  \n",
       "1627  Suburban  \n",
       "1628  Suburban  \n",
       "1629  Suburban  "
      ]
     },
     "execution_count": 192,
     "metadata": {},
     "output_type": "execute_result"
    }
   ],
   "source": [
    "#suburban_cities_df\n",
    "suburban_cities_df = pyber_data_df[pyber_data_df[\"type\"] == \"Suburban\"]\n",
    "suburban_cities_df.head()"
   ]
  },
  {
   "cell_type": "code",
   "execution_count": 193,
   "id": "e2606d9f",
   "metadata": {},
   "outputs": [
    {
     "data": {
      "text/html": [
       "<div>\n",
       "<style scoped>\n",
       "    .dataframe tbody tr th:only-of-type {\n",
       "        vertical-align: middle;\n",
       "    }\n",
       "\n",
       "    .dataframe tbody tr th {\n",
       "        vertical-align: top;\n",
       "    }\n",
       "\n",
       "    .dataframe thead th {\n",
       "        text-align: right;\n",
       "    }\n",
       "</style>\n",
       "<table border=\"1\" class=\"dataframe\">\n",
       "  <thead>\n",
       "    <tr style=\"text-align: right;\">\n",
       "      <th></th>\n",
       "      <th>city</th>\n",
       "      <th>date</th>\n",
       "      <th>fare</th>\n",
       "      <th>ride_id</th>\n",
       "      <th>driver_count</th>\n",
       "      <th>type</th>\n",
       "    </tr>\n",
       "  </thead>\n",
       "  <tbody>\n",
       "    <tr>\n",
       "      <th>2250</th>\n",
       "      <td>Randallchester</td>\n",
       "      <td>2019-04-13 11:13:31</td>\n",
       "      <td>43.22</td>\n",
       "      <td>1076079536213</td>\n",
       "      <td>9</td>\n",
       "      <td>Rural</td>\n",
       "    </tr>\n",
       "    <tr>\n",
       "      <th>2251</th>\n",
       "      <td>North Holly</td>\n",
       "      <td>2019-02-02 14:54:00</td>\n",
       "      <td>12.42</td>\n",
       "      <td>1985256326182</td>\n",
       "      <td>8</td>\n",
       "      <td>Rural</td>\n",
       "    </tr>\n",
       "    <tr>\n",
       "      <th>2252</th>\n",
       "      <td>Michaelberg</td>\n",
       "      <td>2019-03-27 18:27:34</td>\n",
       "      <td>54.85</td>\n",
       "      <td>4421836952718</td>\n",
       "      <td>6</td>\n",
       "      <td>Rural</td>\n",
       "    </tr>\n",
       "    <tr>\n",
       "      <th>2253</th>\n",
       "      <td>Lake Latoyabury</td>\n",
       "      <td>2019-02-23 21:12:24</td>\n",
       "      <td>47.90</td>\n",
       "      <td>3269652929887</td>\n",
       "      <td>2</td>\n",
       "      <td>Rural</td>\n",
       "    </tr>\n",
       "    <tr>\n",
       "      <th>2254</th>\n",
       "      <td>Lake Latoyabury</td>\n",
       "      <td>2019-05-06 08:57:56</td>\n",
       "      <td>51.80</td>\n",
       "      <td>4018025271936</td>\n",
       "      <td>2</td>\n",
       "      <td>Rural</td>\n",
       "    </tr>\n",
       "    <tr>\n",
       "      <th>...</th>\n",
       "      <td>...</td>\n",
       "      <td>...</td>\n",
       "      <td>...</td>\n",
       "      <td>...</td>\n",
       "      <td>...</td>\n",
       "      <td>...</td>\n",
       "    </tr>\n",
       "    <tr>\n",
       "      <th>2370</th>\n",
       "      <td>Michaelberg</td>\n",
       "      <td>2019-04-29 17:04:39</td>\n",
       "      <td>13.38</td>\n",
       "      <td>8550365057598</td>\n",
       "      <td>6</td>\n",
       "      <td>Rural</td>\n",
       "    </tr>\n",
       "    <tr>\n",
       "      <th>2371</th>\n",
       "      <td>Lake Latoyabury</td>\n",
       "      <td>2019-01-30 00:05:47</td>\n",
       "      <td>20.76</td>\n",
       "      <td>9018727594352</td>\n",
       "      <td>2</td>\n",
       "      <td>Rural</td>\n",
       "    </tr>\n",
       "    <tr>\n",
       "      <th>2372</th>\n",
       "      <td>North Jaime</td>\n",
       "      <td>2019-02-10 21:03:50</td>\n",
       "      <td>11.11</td>\n",
       "      <td>2781339863778</td>\n",
       "      <td>1</td>\n",
       "      <td>Rural</td>\n",
       "    </tr>\n",
       "    <tr>\n",
       "      <th>2373</th>\n",
       "      <td>West Heather</td>\n",
       "      <td>2019-05-07 19:22:15</td>\n",
       "      <td>44.94</td>\n",
       "      <td>4256853490277</td>\n",
       "      <td>4</td>\n",
       "      <td>Rural</td>\n",
       "    </tr>\n",
       "    <tr>\n",
       "      <th>2374</th>\n",
       "      <td>Newtonview</td>\n",
       "      <td>2019-04-25 10:20:13</td>\n",
       "      <td>55.84</td>\n",
       "      <td>9990581345298</td>\n",
       "      <td>1</td>\n",
       "      <td>Rural</td>\n",
       "    </tr>\n",
       "  </tbody>\n",
       "</table>\n",
       "<p>125 rows × 6 columns</p>\n",
       "</div>"
      ],
      "text/plain": [
       "                 city                 date   fare        ride_id  \\\n",
       "2250   Randallchester  2019-04-13 11:13:31  43.22  1076079536213   \n",
       "2251      North Holly  2019-02-02 14:54:00  12.42  1985256326182   \n",
       "2252      Michaelberg  2019-03-27 18:27:34  54.85  4421836952718   \n",
       "2253  Lake Latoyabury  2019-02-23 21:12:24  47.90  3269652929887   \n",
       "2254  Lake Latoyabury  2019-05-06 08:57:56  51.80  4018025271936   \n",
       "...               ...                  ...    ...            ...   \n",
       "2370      Michaelberg  2019-04-29 17:04:39  13.38  8550365057598   \n",
       "2371  Lake Latoyabury  2019-01-30 00:05:47  20.76  9018727594352   \n",
       "2372      North Jaime  2019-02-10 21:03:50  11.11  2781339863778   \n",
       "2373     West Heather  2019-05-07 19:22:15  44.94  4256853490277   \n",
       "2374       Newtonview  2019-04-25 10:20:13  55.84  9990581345298   \n",
       "\n",
       "      driver_count   type  \n",
       "2250             9  Rural  \n",
       "2251             8  Rural  \n",
       "2252             6  Rural  \n",
       "2253             2  Rural  \n",
       "2254             2  Rural  \n",
       "...            ...    ...  \n",
       "2370             6  Rural  \n",
       "2371             2  Rural  \n",
       "2372             1  Rural  \n",
       "2373             4  Rural  \n",
       "2374             1  Rural  \n",
       "\n",
       "[125 rows x 6 columns]"
      ]
     },
     "execution_count": 193,
     "metadata": {},
     "output_type": "execute_result"
    }
   ],
   "source": [
    "#rural_cities_df\n",
    "rural_cities_df = pyber_data_df[pyber_data_df[\"type\"] == \"Rural\"]\n",
    "rural_cities_df\n"
   ]
  },
  {
   "cell_type": "code",
   "execution_count": 194,
   "id": "9bf9c982",
   "metadata": {},
   "outputs": [
    {
     "data": {
      "text/plain": [
       "city\n",
       "Amandaburgh        18\n",
       "Barajasview        22\n",
       "Carriemouth        27\n",
       "Christopherfurt    27\n",
       "Deanville          19\n",
       "East Kaylahaven    29\n",
       "Erikaland          12\n",
       "Grahamburgh        25\n",
       "Huntermouth        24\n",
       "Hurleymouth        28\n",
       "Name: ride_id, dtype: int64"
      ]
     },
     "execution_count": 194,
     "metadata": {},
     "output_type": "execute_result"
    }
   ],
   "source": [
    "#count of rides for urban cities\n",
    "urban_ride_count = urban_cities_df.groupby([\"city\"]).count()[\"ride_id\"]\n",
    "urban_ride_count.head(10)"
   ]
  },
  {
   "cell_type": "code",
   "execution_count": 195,
   "id": "173db34c",
   "metadata": {},
   "outputs": [
    {
     "data": {
      "text/plain": [
       "city\n",
       "Barronchester      16\n",
       "Bethanyland        18\n",
       "Brandonfort        19\n",
       "Colemanland        22\n",
       "Davidfurt          17\n",
       "East Aaronbury      9\n",
       "East Danielview    17\n",
       "East Kentstad      13\n",
       "East Marymouth     27\n",
       "Grayville          15\n",
       "Name: ride_id, dtype: int64"
      ]
     },
     "execution_count": 195,
     "metadata": {},
     "output_type": "execute_result"
    }
   ],
   "source": [
    "#cout of rides for suburban cities\n",
    "suburban_ride_count = suburban_cities_df.groupby([\"city\"]).count()[\"ride_id\"]\n",
    "suburban_ride_count.head(10)"
   ]
  },
  {
   "cell_type": "code",
   "execution_count": 196,
   "id": "dd18ec5e",
   "metadata": {},
   "outputs": [
    {
     "data": {
      "text/plain": [
       "city\n",
       "Bradshawfurt       10\n",
       "Garzaport           3\n",
       "Harringtonfort      6\n",
       "Jessicaport         6\n",
       "Lake Jamie          6\n",
       "Lake Latoyabury    11\n",
       "Michaelberg        12\n",
       "New Ryantown        6\n",
       "Newtonview          4\n",
       "North Holly         9\n",
       "Name: ride_id, dtype: int64"
      ]
     },
     "execution_count": 196,
     "metadata": {},
     "output_type": "execute_result"
    }
   ],
   "source": [
    "#count of rides for rural cities\n",
    "rural_ride_count = rural_cities_df.groupby([\"city\"]).count()[\"ride_id\"]\n",
    "rural_ride_count.head(10)"
   ]
  },
  {
   "cell_type": "code",
   "execution_count": 197,
   "id": "452aba89",
   "metadata": {},
   "outputs": [
    {
     "data": {
      "text/plain": [
       "city\n",
       "Amandaburgh            24.641667\n",
       "Barajasview            25.332273\n",
       "Carriemouth            28.314444\n",
       "Christopherfurt        24.501852\n",
       "Deanville              25.842632\n",
       "                         ...    \n",
       "West Patrickchester    28.233125\n",
       "West Robert            25.123871\n",
       "West Samuelburgh       21.767600\n",
       "Williamsstad           24.362174\n",
       "Williamsview           26.599000\n",
       "Name: fare, Length: 66, dtype: float64"
      ]
     },
     "execution_count": 197,
     "metadata": {},
     "output_type": "execute_result"
    }
   ],
   "source": [
    "#average fare for each city in the urban cities\n",
    "urban_avg_fare = urban_cities_df.groupby([\"city\"]).mean()[\"fare\"]\n",
    "urban_avg_fare"
   ]
  },
  {
   "cell_type": "code",
   "execution_count": 198,
   "id": "367bace5",
   "metadata": {},
   "outputs": [
    {
     "data": {
      "text/plain": [
       "city\n",
       "Barronchester      36.422500\n",
       "Bethanyland        32.956111\n",
       "Brandonfort        35.437368\n",
       "Colemanland        30.894545\n",
       "Davidfurt          31.995882\n",
       "East Aaronbury     25.661111\n",
       "East Danielview    31.560588\n",
       "East Kentstad      29.823077\n",
       "East Marymouth     30.835185\n",
       "Grayville          27.763333\n",
       "Name: fare, dtype: float64"
      ]
     },
     "execution_count": 198,
     "metadata": {},
     "output_type": "execute_result"
    }
   ],
   "source": [
    "#average fare for each city in the suburban cities\n",
    "suburban_avg_fare = suburban_cities_df.groupby([\"city\"]).mean()[\"fare\"]\n",
    "suburban_avg_fare.head(10)"
   ]
  },
  {
   "cell_type": "code",
   "execution_count": 199,
   "id": "4301521c",
   "metadata": {},
   "outputs": [
    {
     "data": {
      "text/plain": [
       "city\n",
       "Bradshawfurt       40.064000\n",
       "Garzaport          24.123333\n",
       "Harringtonfort     33.470000\n",
       "Jessicaport        36.013333\n",
       "Lake Jamie         34.358333\n",
       "Lake Latoyabury    26.061818\n",
       "Michaelberg        34.997500\n",
       "New Ryantown       43.278333\n",
       "Newtonview         36.745000\n",
       "North Holly        29.130000\n",
       "Name: fare, dtype: float64"
      ]
     },
     "execution_count": 199,
     "metadata": {},
     "output_type": "execute_result"
    }
   ],
   "source": [
    "#average fare for each city in the rural cities\n",
    "rural_avg_fare = rural_cities_df.groupby([\"city\"]).mean()[\"fare\"]\n",
    "rural_avg_fare.head(10)"
   ]
  },
  {
   "cell_type": "code",
   "execution_count": 200,
   "id": "79f1294a",
   "metadata": {},
   "outputs": [
    {
     "data": {
      "text/plain": [
       "city\n",
       "Amandaburgh        12.0\n",
       "Barajasview        26.0\n",
       "Carriemouth        52.0\n",
       "Christopherfurt    41.0\n",
       "Deanville          49.0\n",
       "Name: driver_count, dtype: float64"
      ]
     },
     "execution_count": 200,
     "metadata": {},
     "output_type": "execute_result"
    }
   ],
   "source": [
    "#mean number of drivers for each urb city\n",
    "urban_driver_count = urban_cities_df.groupby([\"city\"]).mean()[\"driver_count\"]\n",
    "urban_driver_count.head()"
   ]
  },
  {
   "cell_type": "code",
   "execution_count": 201,
   "id": "6c273866",
   "metadata": {},
   "outputs": [
    {
     "data": {
      "text/plain": [
       "city\n",
       "Barronchester    11.0\n",
       "Bethanyland      22.0\n",
       "Brandonfort      10.0\n",
       "Colemanland      23.0\n",
       "Davidfurt        23.0\n",
       "Name: driver_count, dtype: float64"
      ]
     },
     "execution_count": 201,
     "metadata": {},
     "output_type": "execute_result"
    }
   ],
   "source": [
    "#mean drivers for each sub city\n",
    "suburban_driver_count = suburban_cities_df.groupby([\"city\"]).mean()[\"driver_count\"]\n",
    "suburban_driver_count.head()"
   ]
  },
  {
   "cell_type": "code",
   "execution_count": 202,
   "id": "342325f4",
   "metadata": {},
   "outputs": [
    {
     "data": {
      "text/plain": [
       "city\n",
       "South Jennifer       7.0\n",
       "South Marychester    1.0\n",
       "South Saramouth      7.0\n",
       "Taylorhaven          1.0\n",
       "West Heather         4.0\n",
       "Name: driver_count, dtype: float64"
      ]
     },
     "execution_count": 202,
     "metadata": {},
     "output_type": "execute_result"
    }
   ],
   "source": [
    "#mean drivers for each rur city\n",
    "rural_driver_count = rural_cities_df.groupby([\"city\"]).mean()[\"driver_count\"]\n",
    "rural_driver_count.tail()"
   ]
  },
  {
   "cell_type": "code",
   "execution_count": 203,
   "id": "22f672f8",
   "metadata": {},
   "outputs": [
    {
     "data": {
      "text/plain": [
       "<matplotlib.legend.Legend at 0x24bc319acc8>"
      ]
     },
     "execution_count": 203,
     "metadata": {},
     "output_type": "execute_result"
    },
    {
     "data": {
      "image/png": "[encoded data removed]",
      "text/plain": [
       "<Figure size 432x288 with 1 Axes>"
      ]
     },
     "metadata": {
      "needs_background": "light"
     },
     "output_type": "display_data"
    }
   ],
   "source": [
    "#plt.scatter urban cities\n",
    "plt.scatter(urban_ride_count,\n",
    "      urban_avg_fare,\n",
    "      s=10*urban_driver_count, c=\"gold\",\n",
    "      edgecolor=\"black\", linewidths=1,\n",
    "      alpha=0.8, label=\"Urban\")\n",
    "plt.title(\"PyBer Ride-Sharing Data (2019)\")\n",
    "plt.ylabel(\"Average Fare ($)\")\n",
    "plt.xlabel(\"Total Number of Rides (Per City)\")\n",
    "plt.grid(True)\n",
    "# Add the legend.\n",
    "plt.legend()\n"
   ]
  },
  {
   "cell_type": "code",
   "execution_count": 204,
   "id": "c2764d3b",
   "metadata": {},
   "outputs": [
    {
     "data": {
      "text/plain": [
       "<matplotlib.legend.Legend at 0x24bc3353f08>"
      ]
     },
     "execution_count": 204,
     "metadata": {},
     "output_type": "execute_result"
    },
    {
     "data": {
      "image/png": "[encoded data removed]",
      "text/plain": [
       "<Figure size 432x288 with 1 Axes>"
      ]
     },
     "metadata": {
      "needs_background": "light"
     },
     "output_type": "display_data"
    }
   ],
   "source": [
    "#plt.scatter suburban cities.\n",
    "plt.scatter(suburban_ride_count,\n",
    "      suburban_avg_fare,\n",
    "      s=10*suburban_driver_count, c=\"coral\",\n",
    "      edgecolor=\"black\", linewidths=1,\n",
    "      alpha=0.8, label=\"Suburban\")\n",
    "plt.title(\"PyBer Ride-Sharing Data (2019)\")\n",
    "plt.ylabel(\"Average Fare ($)\")\n",
    "plt.xlabel(\"Total Number of Rides (Per City)\")\n",
    "plt.grid(True)\n",
    "# Add the legend.\n",
    "plt.legend()"
   ]
  },
  {
   "cell_type": "code",
   "execution_count": 205,
   "id": "52805e70",
   "metadata": {},
   "outputs": [
    {
     "data": {
      "text/plain": [
       "<matplotlib.legend.Legend at 0x24bc4bc8b08>"
      ]
     },
     "execution_count": 205,
     "metadata": {},
     "output_type": "execute_result"
    },
    {
     "data": {
      "image/png": "[encoded data removed]",
      "text/plain": [
       "<Figure size 432x288 with 1 Axes>"
      ]
     },
     "metadata": {
      "needs_background": "light"
     },
     "output_type": "display_data"
    }
   ],
   "source": [
    "#plt.scatter rural cities\n",
    "plt.scatter(rural_ride_count,\n",
    "      rural_avg_fare,\n",
    "      s=10*rural_driver_count, c=\"skyblue\",\n",
    "      edgecolor=\"black\", linewidths=1,\n",
    "      alpha=0.8, label=\"Rural\")\n",
    "plt.title(\"PyBer Ride-Sharing Data (2019)\")\n",
    "plt.ylabel(\"Average Fare ($)\")\n",
    "plt.xlabel(\"Total Number of Rides (Per City)\")\n",
    "plt.grid(True)\n",
    "# Add the legend.\n",
    "plt.legend()"
   ]
  },
  {
   "cell_type": "code",
   "execution_count": 206,
   "id": "42481c8c",
   "metadata": {},
   "outputs": [
    {
     "data": {
      "text/plain": [
       "Text(42, 35, 'Note: Circle size correlates with driver count per city.')"
      ]
     },
     "execution_count": 206,
     "metadata": {},
     "output_type": "execute_result"
    },
    {
     "data": {
      "image/png": "[encoded data removed]",
      "text/plain": [
       "<Figure size 936x648 with 1 Axes>"
      ]
     },
     "metadata": {
      "needs_background": "light"
     },
     "output_type": "display_data"
    }
   ],
   "source": [
    "#combining plt.scatter urb, sub, and rur\n",
    "\n",
    "#resize\n",
    "#plt.subplots(figsize=(10, 6))\n",
    "plt.subplots(figsize=(13, 9))\n",
    "#urb\n",
    "plt.scatter(urban_ride_count, \n",
    "            urban_avg_fare, \n",
    "            s=10*urban_driver_count, \n",
    "            c=\"gold\",\n",
    "            edgecolor=\"black\", \n",
    "            linewidths=1,\n",
    "            alpha=0.8, \n",
    "            label=\"Urban\")\n",
    "#sub\n",
    "plt.scatter(suburban_ride_count, \n",
    "            suburban_avg_fare,\n",
    "            s=10*suburban_driver_count,\n",
    "            c=\"coral\",\n",
    "            edgecolor=\"black\",\n",
    "            linewidths=1,\n",
    "            alpha=0.8,\n",
    "            label=\"Suburban\") \n",
    "#rur\n",
    "plt.scatter(rural_ride_count, rural_avg_fare,\n",
    "           s=10*rural_driver_count,\n",
    "           c=\"skyblue\",\n",
    "           edgecolor=\"black\",\n",
    "           linewidths=1,\n",
    "           alpha=0.8,\n",
    "           label=\"Rural\")\n",
    "\n",
    "#graph properties\n",
    "plt.title(\"PyPer Ride Sharing Data (2019)\", fontsize=28)\n",
    "plt.xlabel(\"Total Number of Rides (Per City)\", fontsize=18)\n",
    "plt.ylabel(\"Average Fare ($)\", fontsize=16)\n",
    "plt.grid(True)\n",
    "\n",
    "#legend\n",
    "#lgnd = plt.legend(fontsize=\"12\", mode=\"Expanded\",\n",
    "lgnd = plt.legend(fontsize=\"18\", \n",
    "                  mode=\"Expanded\",\n",
    "                  scatterpoints=1, \n",
    "                  loc=\"best\", \n",
    "                  title=\"City Types\")\n",
    "lgnd.legendHandles[0]._sizes = [75]\n",
    "lgnd.legendHandles[1]._sizes = [75]\n",
    "lgnd.legendHandles[2]._sizes = [75]\n",
    "lgnd.get_title().set_fontsize(18)\n",
    "\n",
    "#adding txt label\n",
    "plt.text(42, 35, \"Note: Circle size correlates with driver count per city.\", fontsize=\"18\")"
   ]
  },
  {
   "cell_type": "code",
   "execution_count": 207,
   "id": "c8cd277b",
   "metadata": {},
   "outputs": [
    {
     "data": {
      "text/html": [
       "<div>\n",
       "<style scoped>\n",
       "    .dataframe tbody tr th:only-of-type {\n",
       "        vertical-align: middle;\n",
       "    }\n",
       "\n",
       "    .dataframe tbody tr th {\n",
       "        vertical-align: top;\n",
       "    }\n",
       "\n",
       "    .dataframe thead th {\n",
       "        text-align: right;\n",
       "    }\n",
       "</style>\n",
       "<table border=\"1\" class=\"dataframe\">\n",
       "  <thead>\n",
       "    <tr style=\"text-align: right;\">\n",
       "      <th></th>\n",
       "      <th>fare</th>\n",
       "      <th>ride_id</th>\n",
       "      <th>driver_count</th>\n",
       "    </tr>\n",
       "  </thead>\n",
       "  <tbody>\n",
       "    <tr>\n",
       "      <th>count</th>\n",
       "      <td>1625.000000</td>\n",
       "      <td>1.625000e+03</td>\n",
       "      <td>1625.000000</td>\n",
       "    </tr>\n",
       "    <tr>\n",
       "      <th>mean</th>\n",
       "      <td>24.525772</td>\n",
       "      <td>4.873485e+12</td>\n",
       "      <td>36.678154</td>\n",
       "    </tr>\n",
       "    <tr>\n",
       "      <th>std</th>\n",
       "      <td>11.738649</td>\n",
       "      <td>2.907440e+12</td>\n",
       "      <td>20.075545</td>\n",
       "    </tr>\n",
       "    <tr>\n",
       "      <th>min</th>\n",
       "      <td>4.050000</td>\n",
       "      <td>1.458810e+10</td>\n",
       "      <td>3.000000</td>\n",
       "    </tr>\n",
       "    <tr>\n",
       "      <th>25%</th>\n",
       "      <td>14.550000</td>\n",
       "      <td>2.400244e+12</td>\n",
       "      <td>22.000000</td>\n",
       "    </tr>\n",
       "    <tr>\n",
       "      <th>50%</th>\n",
       "      <td>24.640000</td>\n",
       "      <td>4.711188e+12</td>\n",
       "      <td>37.000000</td>\n",
       "    </tr>\n",
       "    <tr>\n",
       "      <th>75%</th>\n",
       "      <td>34.580000</td>\n",
       "      <td>7.451579e+12</td>\n",
       "      <td>52.000000</td>\n",
       "    </tr>\n",
       "    <tr>\n",
       "      <th>max</th>\n",
       "      <td>44.970000</td>\n",
       "      <td>9.991538e+12</td>\n",
       "      <td>73.000000</td>\n",
       "    </tr>\n",
       "  </tbody>\n",
       "</table>\n",
       "</div>"
      ],
      "text/plain": [
       "              fare       ride_id  driver_count\n",
       "count  1625.000000  1.625000e+03   1625.000000\n",
       "mean     24.525772  4.873485e+12     36.678154\n",
       "std      11.738649  2.907440e+12     20.075545\n",
       "min       4.050000  1.458810e+10      3.000000\n",
       "25%      14.550000  2.400244e+12     22.000000\n",
       "50%      24.640000  4.711188e+12     37.000000\n",
       "75%      34.580000  7.451579e+12     52.000000\n",
       "max      44.970000  9.991538e+12     73.000000"
      ]
     },
     "execution_count": 207,
     "metadata": {},
     "output_type": "execute_result"
    }
   ],
   "source": [
    "#stats urb cities\n",
    "urban_cities_df.describe()"
   ]
  },
  {
   "cell_type": "code",
   "execution_count": 208,
   "id": "7d79e8ef",
   "metadata": {},
   "outputs": [
    {
     "data": {
      "text/html": [
       "<div>\n",
       "<style scoped>\n",
       "    .dataframe tbody tr th:only-of-type {\n",
       "        vertical-align: middle;\n",
       "    }\n",
       "\n",
       "    .dataframe tbody tr th {\n",
       "        vertical-align: top;\n",
       "    }\n",
       "\n",
       "    .dataframe thead th {\n",
       "        text-align: right;\n",
       "    }\n",
       "</style>\n",
       "<table border=\"1\" class=\"dataframe\">\n",
       "  <thead>\n",
       "    <tr style=\"text-align: right;\">\n",
       "      <th></th>\n",
       "      <th>fare</th>\n",
       "      <th>ride_id</th>\n",
       "      <th>driver_count</th>\n",
       "    </tr>\n",
       "  </thead>\n",
       "  <tbody>\n",
       "    <tr>\n",
       "      <th>count</th>\n",
       "      <td>625.000000</td>\n",
       "      <td>6.250000e+02</td>\n",
       "      <td>625.000000</td>\n",
       "    </tr>\n",
       "    <tr>\n",
       "      <th>mean</th>\n",
       "      <td>30.970128</td>\n",
       "      <td>4.971015e+12</td>\n",
       "      <td>13.712000</td>\n",
       "    </tr>\n",
       "    <tr>\n",
       "      <th>std</th>\n",
       "      <td>10.677508</td>\n",
       "      <td>2.912410e+12</td>\n",
       "      <td>8.042372</td>\n",
       "    </tr>\n",
       "    <tr>\n",
       "      <th>min</th>\n",
       "      <td>12.050000</td>\n",
       "      <td>3.218337e+08</td>\n",
       "      <td>1.000000</td>\n",
       "    </tr>\n",
       "    <tr>\n",
       "      <th>25%</th>\n",
       "      <td>21.970000</td>\n",
       "      <td>2.364253e+12</td>\n",
       "      <td>5.000000</td>\n",
       "    </tr>\n",
       "    <tr>\n",
       "      <th>50%</th>\n",
       "      <td>30.750000</td>\n",
       "      <td>5.053221e+12</td>\n",
       "      <td>16.000000</td>\n",
       "    </tr>\n",
       "    <tr>\n",
       "      <th>75%</th>\n",
       "      <td>39.830000</td>\n",
       "      <td>7.551674e+12</td>\n",
       "      <td>21.000000</td>\n",
       "    </tr>\n",
       "    <tr>\n",
       "      <th>max</th>\n",
       "      <td>49.960000</td>\n",
       "      <td>9.917744e+12</td>\n",
       "      <td>25.000000</td>\n",
       "    </tr>\n",
       "  </tbody>\n",
       "</table>\n",
       "</div>"
      ],
      "text/plain": [
       "             fare       ride_id  driver_count\n",
       "count  625.000000  6.250000e+02    625.000000\n",
       "mean    30.970128  4.971015e+12     13.712000\n",
       "std     10.677508  2.912410e+12      8.042372\n",
       "min     12.050000  3.218337e+08      1.000000\n",
       "25%     21.970000  2.364253e+12      5.000000\n",
       "50%     30.750000  5.053221e+12     16.000000\n",
       "75%     39.830000  7.551674e+12     21.000000\n",
       "max     49.960000  9.917744e+12     25.000000"
      ]
     },
     "execution_count": 208,
     "metadata": {},
     "output_type": "execute_result"
    }
   ],
   "source": [
    "#stats sub cities\n",
    "suburban_cities_df.describe()"
   ]
  },
  {
   "cell_type": "code",
   "execution_count": 209,
   "id": "031a3698",
   "metadata": {},
   "outputs": [
    {
     "data": {
      "text/html": [
       "<div>\n",
       "<style scoped>\n",
       "    .dataframe tbody tr th:only-of-type {\n",
       "        vertical-align: middle;\n",
       "    }\n",
       "\n",
       "    .dataframe tbody tr th {\n",
       "        vertical-align: top;\n",
       "    }\n",
       "\n",
       "    .dataframe thead th {\n",
       "        text-align: right;\n",
       "    }\n",
       "</style>\n",
       "<table border=\"1\" class=\"dataframe\">\n",
       "  <thead>\n",
       "    <tr style=\"text-align: right;\">\n",
       "      <th></th>\n",
       "      <th>fare</th>\n",
       "      <th>ride_id</th>\n",
       "      <th>driver_count</th>\n",
       "    </tr>\n",
       "  </thead>\n",
       "  <tbody>\n",
       "    <tr>\n",
       "      <th>count</th>\n",
       "      <td>125.000000</td>\n",
       "      <td>1.250000e+02</td>\n",
       "      <td>125.000000</td>\n",
       "    </tr>\n",
       "    <tr>\n",
       "      <th>mean</th>\n",
       "      <td>34.623440</td>\n",
       "      <td>4.647746e+12</td>\n",
       "      <td>4.296000</td>\n",
       "    </tr>\n",
       "    <tr>\n",
       "      <th>std</th>\n",
       "      <td>14.558046</td>\n",
       "      <td>2.887834e+12</td>\n",
       "      <td>2.691156</td>\n",
       "    </tr>\n",
       "    <tr>\n",
       "      <th>min</th>\n",
       "      <td>10.110000</td>\n",
       "      <td>2.684873e+10</td>\n",
       "      <td>1.000000</td>\n",
       "    </tr>\n",
       "    <tr>\n",
       "      <th>25%</th>\n",
       "      <td>19.900000</td>\n",
       "      <td>2.275364e+12</td>\n",
       "      <td>1.000000</td>\n",
       "    </tr>\n",
       "    <tr>\n",
       "      <th>50%</th>\n",
       "      <td>37.050000</td>\n",
       "      <td>4.023962e+12</td>\n",
       "      <td>4.000000</td>\n",
       "    </tr>\n",
       "    <tr>\n",
       "      <th>75%</th>\n",
       "      <td>47.070000</td>\n",
       "      <td>7.118047e+12</td>\n",
       "      <td>7.000000</td>\n",
       "    </tr>\n",
       "    <tr>\n",
       "      <th>max</th>\n",
       "      <td>58.550000</td>\n",
       "      <td>9.990581e+12</td>\n",
       "      <td>9.000000</td>\n",
       "    </tr>\n",
       "  </tbody>\n",
       "</table>\n",
       "</div>"
      ],
      "text/plain": [
       "             fare       ride_id  driver_count\n",
       "count  125.000000  1.250000e+02    125.000000\n",
       "mean    34.623440  4.647746e+12      4.296000\n",
       "std     14.558046  2.887834e+12      2.691156\n",
       "min     10.110000  2.684873e+10      1.000000\n",
       "25%     19.900000  2.275364e+12      1.000000\n",
       "50%     37.050000  4.023962e+12      4.000000\n",
       "75%     47.070000  7.118047e+12      7.000000\n",
       "max     58.550000  9.990581e+12      9.000000"
      ]
     },
     "execution_count": 209,
     "metadata": {},
     "output_type": "execute_result"
    }
   ],
   "source": [
    "#stat rur cities\n",
    "rural_cities_df.describe()\n"
   ]
  },
  {
   "cell_type": "code",
   "execution_count": 210,
   "id": "88a1163b",
   "metadata": {},
   "outputs": [
    {
     "data": {
      "text/plain": [
       "count    66.000000\n",
       "mean     24.621212\n",
       "std       5.408726\n",
       "min      12.000000\n",
       "25%      21.000000\n",
       "50%      24.000000\n",
       "75%      28.000000\n",
       "max      39.000000\n",
       "Name: ride_id, dtype: float64"
      ]
     },
     "execution_count": 210,
     "metadata": {},
     "output_type": "execute_result"
    }
   ],
   "source": [
    "#summary urb ride count\n",
    "urban_ride_count.describe()"
   ]
  },
  {
   "cell_type": "code",
   "execution_count": 211,
   "id": "f7522107",
   "metadata": {},
   "outputs": [
    {
     "data": {
      "text/plain": [
       "count    36.000000\n",
       "mean     17.361111\n",
       "std       4.323707\n",
       "min       9.000000\n",
       "25%      14.000000\n",
       "50%      17.000000\n",
       "75%      19.250000\n",
       "max      27.000000\n",
       "Name: ride_id, dtype: float64"
      ]
     },
     "execution_count": 211,
     "metadata": {},
     "output_type": "execute_result"
    }
   ],
   "source": [
    "#summary sub ride count\n",
    "suburban_ride_count.describe()"
   ]
  },
  {
   "cell_type": "code",
   "execution_count": 212,
   "id": "f1e61027",
   "metadata": {},
   "outputs": [
    {
     "data": {
      "text/plain": [
       "count    18.000000\n",
       "mean      6.944444\n",
       "std       2.508157\n",
       "min       3.000000\n",
       "25%       5.250000\n",
       "50%       6.000000\n",
       "75%       8.750000\n",
       "max      12.000000\n",
       "Name: ride_id, dtype: float64"
      ]
     },
     "execution_count": 212,
     "metadata": {},
     "output_type": "execute_result"
    }
   ],
   "source": [
    "#summary rur ride count\n",
    "rural_ride_count.describe()"
   ]
  },
  {
   "cell_type": "code",
   "execution_count": 213,
   "id": "a4608483",
   "metadata": {},
   "outputs": [
    {
     "data": {
      "text/plain": [
       "(24.62, 17.36, 6.94)"
      ]
     },
     "execution_count": 213,
     "metadata": {},
     "output_type": "execute_result"
    }
   ],
   "source": [
    "#mean ride count for each city type\n",
    "round(urban_ride_count.mean(),2),round(suburban_ride_count.mean(),2),round(rural_ride_count.mean(),2)"
   ]
  },
  {
   "cell_type": "code",
   "execution_count": 214,
   "id": "5c69c2b0",
   "metadata": {},
   "outputs": [
    {
     "data": {
      "text/plain": [
       "(24.0, 17.0, 6.0)"
      ]
     },
     "execution_count": 214,
     "metadata": {},
     "output_type": "execute_result"
    }
   ],
   "source": [
    "#median ride cont for each city type\n",
    "round(urban_ride_count.median(),2), round (suburban_ride_count.median(), 2), round(rural_ride_count.median(), 2)"
   ]
  },
  {
   "cell_type": "code",
   "execution_count": 215,
   "id": "26b8d0e3",
   "metadata": {},
   "outputs": [
    {
     "data": {
      "text/plain": [
       "(0    22\n",
       " 1    25\n",
       " dtype: int64,\n",
       " 0    17\n",
       " dtype: int64,\n",
       " 0    6\n",
       " dtype: int64)"
      ]
     },
     "execution_count": 215,
     "metadata": {},
     "output_type": "execute_result"
    }
   ],
   "source": [
    "#mode of the ride count for the cities\n",
    "#urban_ride_count.mode()\n",
    "urban_ride_count.mode(), suburban_ride_count.mode(), rural_ride_count.mode()"
   ]
  },
  {
   "cell_type": "code",
   "execution_count": 216,
   "id": "afacfaf0",
   "metadata": {},
   "outputs": [],
   "source": [
    "#depedencies\n",
    "import numpy as np\n",
    "import scipy.stats as sts"
   ]
  },
  {
   "cell_type": "code",
   "execution_count": 217,
   "id": "fd2998e7",
   "metadata": {},
   "outputs": [
    {
     "name": "stdout",
     "output_type": "stream",
     "text": [
      "The mean for the ride counts for urban trips is 24.62.\n",
      "The median for the ride counts for urban trips is 24.0.\n",
      "The mode for urban ride counts is ModeResult(mode=array([22], dtype=int64), count=array([7])).\n"
     ]
    }
   ],
   "source": [
    "#measures of central tendency for the ride count for the urb rides\n",
    "\n",
    "#mean_urban_ride_count = np.mean(urban_ride_count)\n",
    "#print(f\"The mean for the ride conts for urban trips is{mean_urban_ride_count:.2f}.\"\")\n",
    "mean_urban_ride_count = np.mean(urban_ride_count)\n",
    "print(f\"The mean for the ride counts for urban trips is {mean_urban_ride_count:.2f}.\")\n",
    "\n",
    "#med\n",
    "median_urban_ride_count = np.median(urban_ride_count)\n",
    "#print(f\"The median for ride counts in urban trips is\"{median_urban_ride_count}.\")\n",
    "print(f\"The median for the ride counts for urban trips is {median_urban_ride_count}.\")\n",
    "\n",
    "#mode\n",
    "mode_urban_ride_count = sts.mode(urban_ride_count)\n",
    "print(f\"The mode for urban ride counts is {mode_urban_ride_count}.\")"
   ]
  },
  {
   "cell_type": "code",
   "execution_count": 218,
   "id": "78a785c2",
   "metadata": {},
   "outputs": [
    {
     "name": "stdout",
     "output_type": "stream",
     "text": [
      "The mean for the ride counts for urban trips is 17.36.\n",
      "The median for the ride counts for urban trips is 17.0.\n",
      "The mode for urban ride counts is ModeResult(mode=array([17], dtype=int64), count=array([7])).\n"
     ]
    }
   ],
   "source": [
    "#measures of central tendency for the ride count for the sub rides\n",
    "\n",
    "#mean_suburban_ride_count\n",
    "mean_suburban_ride_count = np.mean(suburban_ride_count)\n",
    "print(f\"The mean for the ride counts for urban trips is {mean_suburban_ride_count:.2f}.\")\n",
    "\n",
    "#med\n",
    "median_suburban_ride_count = np.median(suburban_ride_count)\n",
    "#print(f\"The median for ride counts in urban trips is\"{median_urban_ride_count}.\")\n",
    "print(f\"The median for the ride counts for urban trips is {median_suburban_ride_count}.\")\n",
    "\n",
    "#mode\n",
    "mode_suburban_ride_count = sts.mode(suburban_ride_count)\n",
    "print(f\"The mode for urban ride counts is {mode_suburban_ride_count}.\")"
   ]
  },
  {
   "cell_type": "code",
   "execution_count": 219,
   "id": "7a5ddf0c",
   "metadata": {},
   "outputs": [
    {
     "name": "stdout",
     "output_type": "stream",
     "text": [
      "The mean for ride counts for rural trips is 6.944444444444445.\n",
      "THe median for ride counts for rural trips is 6.0.\n",
      "The mode for ride counts for rural trips isModeResult(mode=array([6], dtype=int64), count=array([5])).\n"
     ]
    }
   ],
   "source": [
    "#measures of central tendency for the ride count for the rur rides\n",
    "\n",
    "mean_rural_ride_count = np.mean(rural_ride_count)\n",
    "print(f\"The mean for ride counts for rural trips is {mean_rural_ride_count}.\")\n",
    "\n",
    "#med\n",
    "median_rural_ride_counts = np.median(rural_ride_count)\n",
    "print(f\"THe median for ride counts for rural trips is {median_rural_ride_counts}.\")\n",
    "\n",
    "#mode\n",
    "mode_rural_ride_count = sts.mode(rural_ride_count)\n",
    "print(f\"The mode for ride counts for rural trips is{ mode_rural_ride_count}.\")                                "
   ]
  },
  {
   "cell_type": "code",
   "execution_count": 220,
   "id": "a857a74f",
   "metadata": {},
   "outputs": [
    {
     "data": {
      "text/plain": [
       "0    13.83\n",
       "1    30.24\n",
       "2    33.44\n",
       "3    23.44\n",
       "4    34.58\n",
       "Name: fare, dtype: float64"
      ]
     },
     "execution_count": 220,
     "metadata": {},
     "output_type": "execute_result"
    }
   ],
   "source": [
    "#fares for urb city\n",
    "urban_fares =urban_cities_df[\"fare\"]\n",
    "urban_fares.head()"
   ]
  },
  {
   "cell_type": "code",
   "execution_count": 221,
   "id": "9ddddb2f",
   "metadata": {},
   "outputs": [
    {
     "name": "stdout",
     "output_type": "stream",
     "text": [
      "The mean fare price for urban fares is $24.53.\n",
      "The median fare price for urban fares is $24.64.\n",
      "The mode fare price for urban fares is ModeResult(mode=array([22.86]), count=array([5])).\n"
     ]
    }
   ],
   "source": [
    "#measures of central tendency for the average fare for the urb cities\n",
    "mean_urban_fares = np.mean(urban_fares)\n",
    "print(f\"The mean fare price for urban fares is ${mean_urban_fares:.2f}.\")\n",
    "\n",
    "#med\n",
    "median_urban_fares = np.median(urban_fares)\n",
    "print(f\"The median fare price for urban fares is ${median_urban_fares:.2f}.\")\n",
    "\n",
    "#mod\n",
    "#mode_urban_fares = sts.mode(urban_fares)\n",
    "mode_urban_fares = sts.mode(urban_fares)\n",
    "#print(f\"The mode fare price for urban trips is {mode_urban_fares}.\")\n",
    "print(f\"The mode fare price for urban fares is {mode_urban_fares}.\")"
   ]
  },
  {
   "cell_type": "code",
   "execution_count": 222,
   "id": "7c7225bc",
   "metadata": {},
   "outputs": [
    {
     "data": {
      "text/plain": [
       "1625    27.79\n",
       "1626    18.75\n",
       "1627    21.71\n",
       "1628    17.10\n",
       "1629    37.78\n",
       "Name: fare, dtype: float64"
      ]
     },
     "execution_count": 222,
     "metadata": {},
     "output_type": "execute_result"
    }
   ],
   "source": [
    "#fares for surb city\n",
    "suburban_fares = suburban_cities_df[\"fare\"]\n",
    "suburban_fares.head()"
   ]
  },
  {
   "cell_type": "code",
   "execution_count": 223,
   "id": "d011101d",
   "metadata": {},
   "outputs": [
    {
     "name": "stdout",
     "output_type": "stream",
     "text": [
      "The mean fare price for suburban fares is $30.97.\n",
      "The median fare price for suburban fares is $24.64.\n",
      "The mode fare price for suburban fares is ModeResult(mode=array([17.99]), count=array([3])).\n"
     ]
    }
   ],
   "source": [
    "#measures of central tendency for the average fare for the urb cities\n",
    "mean_suburban_fares = np.mean(suburban_fares)\n",
    "print(f\"The mean fare price for suburban fares is ${mean_suburban_fares:.2f}.\")\n",
    "\n",
    "#med\n",
    "median_suburban_fares = np.median(urban_fares)\n",
    "print(f\"The median fare price for suburban fares is ${median_suburban_fares:.2f}.\")\n",
    "\n",
    "#mod\n",
    "#mode_suburban_fares = sts.mode(suburban_fares)\n",
    "mode_suburban_fares = sts.mode(suburban_fares)\n",
    "#print(f\"The mode fare price for suburban trips is {mode_suburban_fares}.\")\n",
    "print(f\"The mode fare price for suburban fares is {mode_suburban_fares}.\")"
   ]
  },
  {
   "cell_type": "code",
   "execution_count": 224,
   "id": "54c3ea17",
   "metadata": {},
   "outputs": [
    {
     "data": {
      "text/plain": [
       "2250    43.22\n",
       "2251    12.42\n",
       "2252    54.85\n",
       "2253    47.90\n",
       "2254    51.80\n",
       "Name: fare, dtype: float64"
      ]
     },
     "execution_count": 224,
     "metadata": {},
     "output_type": "execute_result"
    }
   ],
   "source": [
    "#fares for rur city\n",
    "rural_fares = rural_cities_df[\"fare\"]\n",
    "rural_fares.head()"
   ]
  },
  {
   "cell_type": "code",
   "execution_count": 225,
   "id": "1f3a5503",
   "metadata": {},
   "outputs": [
    {
     "name": "stdout",
     "output_type": "stream",
     "text": [
      "The mean fare price for rural fares is $34.62.\n",
      "The median fare price for rural fares is $37.05.\n",
      "The mode fare price for rural fares is ModeResult(mode=array([37.05]), count=array([2])).\n"
     ]
    }
   ],
   "source": [
    "\n",
    "\n",
    "#measures of central tendency for the average fare for the rur cities\n",
    "mean_rural_fares = np.mean(rural_fares)\n",
    "print(f\"The mean fare price for rural fares is ${mean_rural_fares:.2f}.\")\n",
    "\n",
    "#med\n",
    "median_rural_fares = np.median(rural_fares)\n",
    "print(f\"The median fare price for rural fares is ${median_rural_fares:.2f}.\")\n",
    "\n",
    "#mod\n",
    "#mode_rural_fares = sts.mode(rural_fares)\n",
    "mode_rural_fares = sts.mode(rural_fares)\n",
    "print(f\"The mode fare price for rural fares is {mode_rural_fares}.\")"
   ]
  },
  {
   "cell_type": "code",
   "execution_count": 226,
   "id": "123638f0",
   "metadata": {},
   "outputs": [
    {
     "data": {
      "text/plain": [
       "0     5\n",
       "1    72\n",
       "2    57\n",
       "3    34\n",
       "4    46\n",
       "Name: driver_count, dtype: int64"
      ]
     },
     "execution_count": 226,
     "metadata": {},
     "output_type": "execute_result"
    }
   ],
   "source": [
    "# Get the driver count data from the urban cities.\n",
    "urban_drivers = urban_cities_df['driver_count']\n",
    "urban_drivers.head()"
   ]
  },
  {
   "cell_type": "code",
   "execution_count": 227,
   "id": "14d9e902",
   "metadata": {},
   "outputs": [
    {
     "data": {
      "text/plain": [
       "1625    11\n",
       "1626    20\n",
       "1627    22\n",
       "1628    19\n",
       "1629    12\n",
       "Name: driver_count, dtype: int64"
      ]
     },
     "execution_count": 227,
     "metadata": {},
     "output_type": "execute_result"
    }
   ],
   "source": [
    "# Get the driver count data from the suburban cities.\n",
    "suburban_drivers = suburban_cities_df['driver_count']\n",
    "suburban_drivers.head()"
   ]
  },
  {
   "cell_type": "code",
   "execution_count": 228,
   "id": "793edfe1",
   "metadata": {},
   "outputs": [
    {
     "data": {
      "text/plain": [
       "2250    9\n",
       "2251    8\n",
       "2252    6\n",
       "2253    2\n",
       "2254    2\n",
       "Name: driver_count, dtype: int64"
      ]
     },
     "execution_count": 228,
     "metadata": {},
     "output_type": "execute_result"
    }
   ],
   "source": [
    "# Get the driver count data from the rural cities.\n",
    "rural_drivers = rural_cities_df['driver_count']\n",
    "rural_drivers.head()"
   ]
  },
  {
   "cell_type": "code",
   "execution_count": 229,
   "id": "40aa4f5d",
   "metadata": {},
   "outputs": [
    {
     "name": "stdout",
     "output_type": "stream",
     "text": [
      "The mean for urban drivers is 36.68.\n",
      "The median for urban_drivers is 37.05.\n",
      "The mode urban_drivers is ModeResult(mode=array([37.05]), count=array([2])).\n"
     ]
    }
   ],
   "source": [
    "#measures of central tendency urban drivers\n",
    "mean_urban_drivers= np.mean(urban_drivers)\n",
    "print(f\"The mean for urban drivers is {mean_urban_drivers:.2f}.\")\n",
    "\n",
    "#med\n",
    "median_urban_drivers = np.median(urban_drivers)\n",
    "print(f\"The median for urban_drivers is {median_rural_fares:.2f}.\")\n",
    "\n",
    "#mod\n",
    "mode_urban_drivers = sts.mode(urban_drivers)\n",
    "print(f\"The mode urban_drivers is {mode_rural_fares}.\")"
   ]
  },
  {
   "cell_type": "code",
   "execution_count": 230,
   "id": "2ab04d3b",
   "metadata": {},
   "outputs": [
    {
     "name": "stdout",
     "output_type": "stream",
     "text": [
      "The mean for suburban_drivers is 13.71.\n",
      "The median for suburban_drivers is 16.00.\n",
      "The mode for suburban_drivers is ModeResult(mode=array([20], dtype=int64), count=array([79])).\n"
     ]
    }
   ],
   "source": [
    "#measures of central tendency suburban drivers\n",
    "mean_suburban_drivers = np.mean(suburban_drivers)\n",
    "print(f\"The mean for suburban_drivers is {mean_suburban_drivers:.2f}.\")\n",
    "\n",
    "#med\n",
    "median_suburban_drivers = np.median(suburban_drivers)\n",
    "print(f\"The median for suburban_drivers is {median_suburban_drivers:.2f}.\")\n",
    "\n",
    "#mod\n",
    "mode_suburban_drivers = sts.mode(suburban_drivers)\n",
    "print(f\"The mode for suburban_drivers is {mode_suburban_drivers}.\")"
   ]
  },
  {
   "cell_type": "code",
   "execution_count": 231,
   "id": "02330106",
   "metadata": {},
   "outputs": [
    {
     "name": "stdout",
     "output_type": "stream",
     "text": [
      "The mean for rural drivers is 34.62.\n",
      "The median for rural drivers is 4.00.\n",
      "The mode for rural drivers is ModeResult(mode=array([1], dtype=int64), count=array([32])).\n"
     ]
    }
   ],
   "source": [
    "#measures of central tendency rur drivers\n",
    "mean_rural_drivers = np.mean(rural_fares)\n",
    "print(f\"The mean for rural drivers is {mean_rural_drivers:.2f}.\")\n",
    "\n",
    "#med\n",
    "median_rural_drivers = np.median(rural_drivers)\n",
    "print(f\"The median for rural drivers is {median_rural_drivers:.2f}.\")\n",
    "\n",
    "#mod\n",
    "mode_rural_drivers = sts.mode(rural_drivers)\n",
    "print(f\"The mode for rural drivers is {mode_rural_drivers}.\")"
   ]
  },
  {
   "cell_type": "code",
   "execution_count": 232,
   "id": "55f6afa6",
   "metadata": {},
   "outputs": [
    {
     "data": {
      "image/png": "[encoded data removed]",
      "text/plain": [
       "<Figure size 432x288 with 1 Axes>"
      ]
     },
     "metadata": {
      "needs_background": "light"
     },
     "output_type": "display_data"
    }
   ],
   "source": [
    "# Create a box-and-whisker plot for the urban cities ride count.\n",
    "x_labels = [\"Urban\"]\n",
    "fig, ax = plt.subplots()\n",
    "ax.boxplot(urban_ride_count, labels=x_labels)\n",
    "# Add the title, y-axis label and grid.\n",
    "ax.set_title('Ride Count Data (2019)')\n",
    "ax.set_ylabel('Number of Rides')\n",
    "ax.set_yticks(np.arange(10, 41, step=2.0))\n",
    "ax.grid()\n",
    "plt.show()"
   ]
  },
  {
   "cell_type": "code",
   "execution_count": 233,
   "id": "a03c22d9",
   "metadata": {},
   "outputs": [
    {
     "data": {
      "image/png": "[encoded data removed]",
      "text/plain": [
       "<Figure size 432x288 with 1 Axes>"
      ]
     },
     "metadata": {
      "needs_background": "light"
     },
     "output_type": "display_data"
    }
   ],
   "source": [
    "# Create a box-and-whisker plot for the urban sub ride count.\n",
    "x_labels = [\"Suburban\"]\n",
    "fig, ax = plt.subplots()\n",
    "ax.boxplot(suburban_ride_count, labels=x_labels)\n",
    "# Add the title, y-axis label and grid.\n",
    "ax.set_title('Ride Count Data (2019)')\n",
    "ax.set_ylabel('Number of Rides')\n",
    "ax.set_yticks(np.arange(10, 41, step=2.0))\n",
    "ax.grid()\n",
    "plt.show()"
   ]
  },
  {
   "cell_type": "code",
   "execution_count": 234,
   "id": "ea87a33a",
   "metadata": {},
   "outputs": [
    {
     "data": {
      "image/png": "[encoded data removed]",
      "text/plain": [
       "<Figure size 432x288 with 1 Axes>"
      ]
     },
     "metadata": {
      "needs_background": "light"
     },
     "output_type": "display_data"
    }
   ],
   "source": [
    "# Create a box-and-whisker plot for the rural sub ride count.\n",
    "x_labels = [\"Rural\"]\n",
    "fig, ax = plt.subplots()\n",
    "ax.boxplot(rural_ride_count, labels=x_labels)\n",
    "# Add the title, y-axis label and grid.\n",
    "ax.set_title('Ride Count Data (2019)')\n",
    "ax.set_ylabel('Number of Rides')\n",
    "ax.set_yticks(np.arange(10, 41, step=2.0))\n",
    "ax.grid()\n",
    "plt.show()"
   ]
  },
  {
   "cell_type": "code",
   "execution_count": 235,
   "id": "8b1c11c6",
   "metadata": {
    "scrolled": true
   },
   "outputs": [
    {
     "data": {
      "image/png": "[encoded data removed]",
      "text/plain": [
       "<Figure size 720x432 with 1 Axes>"
      ]
     },
     "metadata": {
      "needs_background": "light"
     },
     "output_type": "display_data"
    }
   ],
   "source": [
    "# Add all ride count box-and-whisker plots to the same graph.\n",
    "x_labels = [\"Urban\", \"Suburban\",\"Rural\"]\n",
    "ride_count_data = [urban_ride_count, suburban_ride_count, rural_ride_count]\n",
    "fig, ax = plt.subplots(figsize=(10, 6))\n",
    "ax.set_title('Ride Count Data (2019)',fontsize=20)\n",
    "ax.set_ylabel('Number of Rides',fontsize=14)\n",
    "ax.set_xlabel(\"City Types\",fontsize=14)\n",
    "ax.boxplot(ride_count_data, labels=x_labels)\n",
    "ax.set_yticks(np.arange(0, 45, step=3.0))\n",
    "ax.grid()\n",
    "# Save the figure.\n",
    "plt.savefig(\"analysis/Fig1.png\")\n",
    "plt.show()"
   ]
  },
  {
   "cell_type": "code",
   "execution_count": 236,
   "id": "6354fce0",
   "metadata": {},
   "outputs": [
    {
     "name": "stdout",
     "output_type": "stream",
     "text": [
      "West Angela has the highest rider count.\n"
     ]
    }
   ],
   "source": [
    "# Get the city that matches 39\n",
    "urban_city_outlier = urban_ride_count[urban_ride_count==39].index[0]\n",
    "urban_city_outlier = urban_ride_count[urban_ride_count==39].index[0]\n",
    "print(f\"{urban_city_outlier} has the highest rider count.\")"
   ]
  },
  {
   "cell_type": "code",
   "execution_count": 237,
   "id": "b94d2d58",
   "metadata": {},
   "outputs": [
    {
     "data": {
      "image/png": "[encoded data removed]",
      "text/plain": [
       "<Figure size 432x288 with 1 Axes>"
      ]
     },
     "metadata": {
      "needs_background": "light"
     },
     "output_type": "display_data"
    },
    {
     "name": "stdout",
     "output_type": "stream",
     "text": [
      "Summary Statistics\n"
     ]
    },
    {
     "data": {
      "text/plain": [
       "count    1625.000000\n",
       "mean       24.525772\n",
       "std        11.738649\n",
       "min         4.050000\n",
       "25%        14.550000\n",
       "50%        24.640000\n",
       "75%        34.580000\n",
       "max        44.970000\n",
       "Name: fare, dtype: float64"
      ]
     },
     "execution_count": 237,
     "metadata": {},
     "output_type": "execute_result"
    }
   ],
   "source": [
    "# Create a box-and-whisker plot for the urban fare data.\n",
    "x_labels = [\"Urban\"]\n",
    "fig, ax = plt.subplots()\n",
    "ax.boxplot(urban_fares, labels=x_labels)\n",
    "# Add the title, y-axis label and grid.\n",
    "ax.set_title('Ride Fare Data (2019)')\n",
    "ax.set_ylabel('Fare($USD)')\n",
    "ax.set_yticks(np.arange(0, 51, step=5.0))\n",
    "ax.grid()\n",
    "plt.show()\n",
    "print(\"Summary Statistics\")\n",
    "urban_fares.describe()"
   ]
  },
  {
   "cell_type": "code",
   "execution_count": 238,
   "id": "10db10ec",
   "metadata": {},
   "outputs": [
    {
     "data": {
      "image/png": "[encoded data removed]",
      "text/plain": [
       "<Figure size 432x288 with 1 Axes>"
      ]
     },
     "metadata": {
      "needs_background": "light"
     },
     "output_type": "display_data"
    },
    {
     "name": "stdout",
     "output_type": "stream",
     "text": [
      "Summary Statistics\n"
     ]
    },
    {
     "data": {
      "text/plain": [
       "count    625.000000\n",
       "mean      30.970128\n",
       "std       10.677508\n",
       "min       12.050000\n",
       "25%       21.970000\n",
       "50%       30.750000\n",
       "75%       39.830000\n",
       "max       49.960000\n",
       "Name: fare, dtype: float64"
      ]
     },
     "execution_count": 238,
     "metadata": {},
     "output_type": "execute_result"
    }
   ],
   "source": [
    "# Create a box-and-whisker plot for the urban fare data.\n",
    "x_labels = [\"Suburban\"]\n",
    "fig, ax = plt.subplots()\n",
    "ax.boxplot(suburban_fares, labels=x_labels)\n",
    "# Add the title, y-axis label and grid.\n",
    "ax.set_title('Ride Fare Data (2019)')\n",
    "ax.set_ylabel('Fare($USD)')\n",
    "ax.set_yticks(np.arange(0, 51, step=5.0))\n",
    "ax.grid()\n",
    "plt.show()\n",
    "print(\"Summary Statistics\")\n",
    "suburban_fares.describe()"
   ]
  },
  {
   "cell_type": "code",
   "execution_count": 239,
   "id": "fc4127c2",
   "metadata": {},
   "outputs": [
    {
     "data": {
      "image/png": "[encoded data removed]",
      "text/plain": [
       "<Figure size 432x288 with 1 Axes>"
      ]
     },
     "metadata": {
      "needs_background": "light"
     },
     "output_type": "display_data"
    },
    {
     "name": "stdout",
     "output_type": "stream",
     "text": [
      "Summary Statistics\n"
     ]
    },
    {
     "data": {
      "text/plain": [
       "<bound method NDFrame.describe of 2250    43.22\n",
       "2251    12.42\n",
       "2252    54.85\n",
       "2253    47.90\n",
       "2254    51.80\n",
       "        ...  \n",
       "2370    13.38\n",
       "2371    20.76\n",
       "2372    11.11\n",
       "2373    44.94\n",
       "2374    55.84\n",
       "Name: fare, Length: 125, dtype: float64>"
      ]
     },
     "execution_count": 239,
     "metadata": {},
     "output_type": "execute_result"
    }
   ],
   "source": [
    "#box n whisker for rur ride fare\n",
    "x_labels = [\"Rural\"]\n",
    "fig, ax = plt.subplots()\n",
    "ax.boxplot(rural_fares, labels=x_labels)\n",
    "ax.set_title('Ride Fare Data (2019)')\n",
    "ax.set_ylabel('Fare($USD)')\n",
    "ax.set_yticks(np.arange(0, 60, step=5.0))\n",
    "ax.grid()\n",
    "plt.show()\n",
    "print(\"Summary Statistics\")\n",
    "rural_fares.describe\n",
    "    \n",
    "    "
   ]
  },
  {
   "cell_type": "code",
   "execution_count": 240,
   "id": "0143c402",
   "metadata": {},
   "outputs": [
    {
     "data": {
      "image/png": "[encoded data removed]",
      "text/plain": [
       "<Figure size 720x432 with 1 Axes>"
      ]
     },
     "metadata": {
      "needs_background": "light"
     },
     "output_type": "display_data"
    }
   ],
   "source": [
    "# Add all ride count box-and-whisker plots to the same graph.\n",
    "x_labels = [\"Urban\", \"Suburban\",\"Rural\"]\n",
    "ride_count_data = [urban_fares, suburban_fares, rural_fares]\n",
    "fig, ax = plt.subplots(figsize=(10, 6))\n",
    "ax.set_title('Ride Fare Data (2019)',fontsize=20)\n",
    "ax.set_ylabel('Fare ($USD)',fontsize=14)\n",
    "ax.set_xlabel(\"City Types\",fontsize=14)\n",
    "ax.boxplot(ride_count_data, labels=x_labels)\n",
    "ax.set_yticks(np.arange(0, 60, step=5.0))\n",
    "ax.grid()\n",
    "# Save the figure\n",
    "plt.savefig(\"analysis/Fig2.png\")\n",
    "plt.show()"
   ]
  },
  {
   "cell_type": "code",
   "execution_count": 241,
   "id": "44f47fe0",
   "metadata": {},
   "outputs": [
    {
     "data": {
      "image/png": "[encoded data removed]",
      "text/plain": [
       "<Figure size 432x288 with 1 Axes>"
      ]
     },
     "metadata": {
      "needs_background": "light"
     },
     "output_type": "display_data"
    },
    {
     "name": "stdout",
     "output_type": "stream",
     "text": [
      "Summary Statistics\n"
     ]
    },
    {
     "data": {
      "text/plain": [
       "count    1625.000000\n",
       "mean       36.678154\n",
       "std        20.075545\n",
       "min         3.000000\n",
       "25%        22.000000\n",
       "50%        37.000000\n",
       "75%        52.000000\n",
       "max        73.000000\n",
       "Name: driver_count, dtype: float64"
      ]
     },
     "execution_count": 241,
     "metadata": {},
     "output_type": "execute_result"
    }
   ],
   "source": [
    "# Create the box-and-whisker plot for the urban driver count data.\n",
    "x_labels = [\"Urban\"]\n",
    "fig, ax = plt.subplots()\n",
    "ax.boxplot(urban_drivers,labels=x_labels)\n",
    "# Add the title, y-axis label and grid.\n",
    "ax.set_title('Driver Count Data (2019)')\n",
    "ax.set_ylabel('Number of Drivers')\n",
    "ax.set_yticks(np.arange(0, 90, step=5.0))\n",
    "ax.grid()\n",
    "plt.show()\n",
    "print(\"Summary Statistics\")\n",
    "urban_drivers.describe()"
   ]
  },
  {
   "cell_type": "code",
   "execution_count": 242,
   "id": "747c39b3",
   "metadata": {},
   "outputs": [
    {
     "data": {
      "image/png": "[encoded data removed]",
      "text/plain": [
       "<Figure size 432x288 with 1 Axes>"
      ]
     },
     "metadata": {
      "needs_background": "light"
     },
     "output_type": "display_data"
    },
    {
     "name": "stdout",
     "output_type": "stream",
     "text": [
      "Summary Statistics\n"
     ]
    },
    {
     "data": {
      "text/plain": [
       "count    625.000000\n",
       "mean      13.712000\n",
       "std        8.042372\n",
       "min        1.000000\n",
       "25%        5.000000\n",
       "50%       16.000000\n",
       "75%       21.000000\n",
       "max       25.000000\n",
       "Name: driver_count, dtype: float64"
      ]
     },
     "execution_count": 242,
     "metadata": {},
     "output_type": "execute_result"
    }
   ],
   "source": [
    "# Create the box-and-whisker plot for the urban driver count data.\n",
    "x_labels = [\"Suburban\"]\n",
    "fig, ax = plt.subplots()\n",
    "ax.boxplot(suburban_drivers,labels=x_labels)\n",
    "# Add the title, y-axis label and grid.\n",
    "ax.set_title('Driver Count Data (2019)')\n",
    "ax.set_ylabel('Number of Drivers')\n",
    "ax.set_yticks(np.arange(0, 90, step=5.0))\n",
    "ax.grid()\n",
    "plt.show()\n",
    "print(\"Summary Statistics\")\n",
    "suburban_drivers.describe()"
   ]
  },
  {
   "cell_type": "code",
   "execution_count": 243,
   "id": "f4cb9772",
   "metadata": {},
   "outputs": [
    {
     "data": {
      "image/png": "[encoded data removed]",
      "text/plain": [
       "<Figure size 432x288 with 1 Axes>"
      ]
     },
     "metadata": {
      "needs_background": "light"
     },
     "output_type": "display_data"
    },
    {
     "name": "stdout",
     "output_type": "stream",
     "text": [
      "Summary Statistics\n"
     ]
    },
    {
     "data": {
      "text/plain": [
       "count    125.000000\n",
       "mean       4.296000\n",
       "std        2.691156\n",
       "min        1.000000\n",
       "25%        1.000000\n",
       "50%        4.000000\n",
       "75%        7.000000\n",
       "max        9.000000\n",
       "Name: driver_count, dtype: float64"
      ]
     },
     "execution_count": 243,
     "metadata": {},
     "output_type": "execute_result"
    }
   ],
   "source": [
    "#driver_count rur box and whisk\n",
    "x_labels = [\"Rural\"]\n",
    "fig, ax = plt.subplots()\n",
    "ax.boxplot(rural_drivers,labels=x_labels)\n",
    "ax.set_title('Driver Count Data (2019)')\n",
    "ax.set_ylabel('Number of Drivers')\n",
    "ax.set_yticks(np.arange (0, 90, step=5.0))\n",
    "ax.grid()\n",
    "plt.show()\n",
    "print(\"Summary Statistics\")\n",
    "rural_drivers.describe()\n",
    "\n",
    "\n"
   ]
  },
  {
   "cell_type": "code",
   "execution_count": 244,
   "id": "59fa8e69",
   "metadata": {
    "scrolled": true
   },
   "outputs": [
    {
     "data": {
      "image/png": "[encoded data removed]",
      "text/plain": [
       "<Figure size 720x432 with 1 Axes>"
      ]
     },
     "metadata": {
      "needs_background": "light"
     },
     "output_type": "display_data"
    }
   ],
   "source": [
    "# Add all ride count box-and-whisker plots to the same graph.\n",
    "x_labels = [\"Urban\", \"Suburban\",\"Rural\"]\n",
    "driver_count_data = [urban_drivers, suburban_drivers, rural_drivers]\n",
    "fig, ax = plt.subplots(figsize=(10, 6))\n",
    "ax.set_title('Ride Count Data (2019)',fontsize=20)\n",
    "ax.set_ylabel('Number of Drivers',fontsize=14)\n",
    "ax.set_xlabel(\"City Types\",fontsize=14)\n",
    "ax.boxplot(driver_count_data, labels=x_labels)\n",
    "ax.set_yticks(np.arange(0, 90, step=5.0))\n",
    "ax.grid()\n",
    "# Save the figure.\n",
    "plt.savefig(\"analysis/Fig3.png\")\n",
    "plt.show()"
   ]
  },
  {
   "cell_type": "code",
   "execution_count": 245,
   "id": "340b07a7",
   "metadata": {},
   "outputs": [
    {
     "data": {
      "text/plain": [
       "type\n",
       "Rural        4327.93\n",
       "Suburban    19356.33\n",
       "Urban       39854.38\n",
       "Name: fare, dtype: float64"
      ]
     },
     "execution_count": 245,
     "metadata": {},
     "output_type": "execute_result"
    }
   ],
   "source": [
    "#create series with index as type city\n",
    "#groupby city type and the sum up total \"fare\"\n",
    "sum_fares_by_type = pyber_data_df.groupby([\"type\"]).sum()[\"fare\"]\n",
    "sum_fares_by_type\n"
   ]
  },
  {
   "cell_type": "code",
   "execution_count": 246,
   "id": "ec60aa5e",
   "metadata": {},
   "outputs": [
    {
     "data": {
      "text/plain": [
       "63538.64"
      ]
     },
     "execution_count": 246,
     "metadata": {},
     "output_type": "execute_result"
    }
   ],
   "source": [
    "#get sum of all fares\n",
    "total_fares = pyber_data_df[\"fare\"].sum()\n",
    "total_fares"
   ]
  },
  {
   "cell_type": "code",
   "execution_count": 247,
   "id": "67cf7199",
   "metadata": {},
   "outputs": [
    {
     "data": {
      "text/plain": [
       "type\n",
       "Rural        6.811493\n",
       "Suburban    30.463872\n",
       "Urban       62.724635\n",
       "Name: fare, dtype: float64"
      ]
     },
     "execution_count": 247,
     "metadata": {},
     "output_type": "execute_result"
    }
   ],
   "source": [
    "#city type\n",
    "type_percents = 100 * sum_fares_by_type / total_fares\n",
    "type_percents"
   ]
  },
  {
   "cell_type": "code",
   "execution_count": 248,
   "id": "66d7c7b5",
   "metadata": {},
   "outputs": [
    {
     "data": {
      "text/plain": [
       "<function matplotlib.pyplot.show(close=None, block=None)>"
      ]
     },
     "execution_count": 248,
     "metadata": {},
     "output_type": "execute_result"
    },
    {
     "data": {
      "image/png": "[encoded data removed]",
      "text/plain": [
       "<Figure size 432x288 with 1 Axes>"
      ]
     },
     "metadata": {},
     "output_type": "display_data"
    }
   ],
   "source": [
    "#pie chart by type_percents\n",
    "plt.pie(type_percents, labels=[\"Rural\", \"Suburban\", \"Urban\"])\n",
    "plt.show"
   ]
  },
  {
   "cell_type": "code",
   "execution_count": 249,
   "id": "0719505e",
   "metadata": {},
   "outputs": [
    {
     "data": {
      "image/png": "[encoded data removed]",
      "text/plain": [
       "<Figure size 720x432 with 1 Axes>"
      ]
     },
     "metadata": {},
     "output_type": "display_data"
    }
   ],
   "source": [
    "#import dependency\n",
    "import matplotlib as mpl\n",
    "# Build Pie Chart\n",
    "plt.subplots(figsize=(10, 6))\n",
    "plt.pie(type_percents,\n",
    "    labels=[\"Rural\", \"Suburban\", \"Urban\"],\n",
    "    colors=[\"lightskyblue\", \"lightcoral\", \"gold\"],\n",
    "    explode=[0, 0, 0.1],\n",
    "    autopct='%1.1f%%',\n",
    "    shadow=True, startangle=150)\n",
    "plt.title(\"% of Total Fares by City Type\")\n",
    "# Change the default font size from 10 to 14.\n",
    "mpl.rcParams['font.size'] = 14\n",
    "# Save Figure\n",
    "plt.savefig(\"analysis/Fig5.png\")\n",
    "# Show Figure\n",
    "plt.show()\n",
    "        \n",
    "                              \n"
   ]
  },
  {
   "cell_type": "code",
   "execution_count": 250,
   "id": "e6d0fbc1",
   "metadata": {},
   "outputs": [
    {
     "data": {
      "text/plain": [
       "<pandas.core.groupby.generic.DataFrameGroupBy object at 0x0000024BC6684E88>"
      ]
     },
     "execution_count": 250,
     "metadata": {},
     "output_type": "execute_result"
    }
   ],
   "source": [
    "#Get the total number of rides for each city type.\n",
    "#pyber_data_df.groupby([\"type\"])\n",
    "pyber_data_df.groupby([\"type\"])"
   ]
  },
  {
   "cell_type": "code",
   "execution_count": 251,
   "id": "aab86eef",
   "metadata": {},
   "outputs": [
    {
     "data": {
      "text/plain": [
       "type\n",
       "Rural        125\n",
       "Suburban     625\n",
       "Urban       1625\n",
       "Name: ride_id, dtype: int64"
      ]
     },
     "execution_count": 251,
     "metadata": {},
     "output_type": "execute_result"
    }
   ],
   "source": [
    "pyber_data_df.groupby([\"type\"]).count()[\"ride_id\"]"
   ]
  },
  {
   "cell_type": "code",
   "execution_count": 252,
   "id": "e22943ec",
   "metadata": {},
   "outputs": [
    {
     "data": {
      "text/plain": [
       "2375"
      ]
     },
     "execution_count": 252,
     "metadata": {},
     "output_type": "execute_result"
    }
   ],
   "source": [
    "#Get the total rides for all the city types.\n",
    "pyber_data_df[\"ride_id\"].count()"
   ]
  },
  {
   "cell_type": "code",
   "execution_count": 253,
   "id": "8aae9323",
   "metadata": {
    "scrolled": true
   },
   "outputs": [
    {
     "data": {
      "text/plain": [
       "type\n",
       "Rural        5.263158\n",
       "Suburban    26.315789\n",
       "Urban       68.421053\n",
       "Name: ride_id, dtype: float64"
      ]
     },
     "execution_count": 253,
     "metadata": {},
     "output_type": "execute_result"
    }
   ],
   "source": [
    "# Calculate the percentage of rides for each city type.\n",
    "#ride_percents = 100 * pyber_data_df.groupby([\"type\"]).count()[\"ride_id\"] / pyber_data_df[\"ride_id\"].count()\n",
    "#ride_percents\n",
    "ride_percents = 100 * pyber_data_df.groupby([\"type\"]).count()[\"ride_id\"] / pyber_data_df[\"ride_id\"].count()\n",
    "ride_percents"
   ]
  },
  {
   "cell_type": "code",
   "execution_count": 254,
   "id": "232cf3ee",
   "metadata": {},
   "outputs": [
    {
     "data": {
      "image/png": "[encoded data removed]",
      "text/plain": [
       "<Figure size 720x432 with 1 Axes>"
      ]
     },
     "metadata": {},
     "output_type": "display_data"
    }
   ],
   "source": [
    "# Build percentage of rides by city type pie chart.\n",
    "plt.subplots(figsize=(10, 6))\n",
    "plt.pie(ride_percents,\n",
    "    labels=[\"Rural\", \"Suburban\", \"Urban\"],\n",
    "    colors=[\"lightskyblue\", \"lightcoral\",\"gold\",],\n",
    "    explode=[0, 0, 0.1],\n",
    "    autopct='%1.1f%%',\n",
    "    shadow=True, startangle=150)\n",
    "plt.title(\"% of Total Rides by City Type\")\n",
    "# Change the default font size from 10 to 14.\n",
    "mpl.rcParams['font.size'] = 14\n",
    "# Save Figure\n",
    "plt.savefig(\"analysis/Fig6.png\")\n",
    "# Show Figure\n",
    "plt.show()"
   ]
  },
  {
   "cell_type": "code",
   "execution_count": 255,
   "id": "7d8d86a4",
   "metadata": {},
   "outputs": [
    {
     "data": {
      "text/plain": [
       "type\n",
       "Rural         78\n",
       "Suburban     490\n",
       "Urban       2405\n",
       "Name: driver_count, dtype: int64"
      ]
     },
     "execution_count": 255,
     "metadata": {},
     "output_type": "execute_result"
    }
   ],
   "source": [
    "#Get the total number of drivers for each city type\n",
    "city_data_df.groupby([\"type\"]).sum()[\"driver_count\"]"
   ]
  },
  {
   "cell_type": "code",
   "execution_count": null,
   "id": "ab76c960",
   "metadata": {},
   "outputs": [],
   "source": []
  },
  {
   "cell_type": "code",
   "execution_count": 256,
   "id": "d69478c7",
   "metadata": {},
   "outputs": [
    {
     "data": {
      "text/plain": [
       "2973"
      ]
     },
     "execution_count": 256,
     "metadata": {},
     "output_type": "execute_result"
    }
   ],
   "source": [
    "#Get the total drivers for all the city types.\n",
    "city_data_df[\"driver_count\"].sum()\n",
    "\n",
    "\n"
   ]
  },
  {
   "cell_type": "code",
   "execution_count": 257,
   "id": "460888ce",
   "metadata": {},
   "outputs": [
    {
     "data": {
      "text/plain": [
       "type\n",
       "Rural        2.623613\n",
       "Suburban    16.481668\n",
       "Urban       80.894719\n",
       "Name: driver_count, dtype: float64"
      ]
     },
     "execution_count": 257,
     "metadata": {},
     "output_type": "execute_result"
    }
   ],
   "source": [
    "# Calculate the percentage of drivers for each city type.\n",
    "# Calculate the percentage of drivers for each city type.\n",
    "driver_percents = 100 * city_data_df.groupby([\"type\"]).sum()[\"driver_count\"] / city_data_df[\"driver_count\"].sum()\n",
    "driver_percents"
   ]
  },
  {
   "cell_type": "code",
   "execution_count": 258,
   "id": "b4093453",
   "metadata": {},
   "outputs": [
    {
     "data": {
      "image/png": "[encoded data removed]",
      "text/plain": [
       "<Figure size 720x432 with 1 Axes>"
      ]
     },
     "metadata": {},
     "output_type": "display_data"
    }
   ],
   "source": [
    "# Build percentage of rides by city type pie chart.\n",
    "plt.subplots(figsize=(10, 6))\n",
    "plt.pie(driver_percents,\n",
    "    labels=[\"Rural\", \"Suburban\", \"Urban\"],\n",
    "    colors=[\"lightskyblue\",\"lightcoral\", \"gold\"],\n",
    "    explode=[0, 0, 0.1],\n",
    "    autopct='%1.1f%%',\n",
    "    shadow=True, startangle=165)\n",
    "plt.title(\"% of Total Drivers by City Type\")\n",
    "# Change the default font size from 10 to 14.\n",
    "mpl.rcParams['font.size'] = 14\n",
    "# Save Figure\n",
    "plt.savefig(\"analysis/Fig7.png\")\n",
    "# Show Figure\n",
    "plt.show()"
   ]
  },
  {
   "cell_type": "code",
   "execution_count": null,
   "id": "f94a1ed1",
   "metadata": {},
   "outputs": [],
   "source": []
  }
 ],
 "metadata": {
  "kernelspec": {
   "display_name": "PythonData",
   "language": "python",
   "name": "pythondata"
  },
  "language_info": {
   "codemirror_mode": {
    "name": "ipython",
    "version": 3
   },
   "file_extension": ".py",
   "mimetype": "text/x-python",
   "name": "python",
   "nbconvert_exporter": "python",
   "pygments_lexer": "ipython3",
   "version": "3.7.11"
  }
 },
 "nbformat": 4,
 "nbformat_minor": 5
}
